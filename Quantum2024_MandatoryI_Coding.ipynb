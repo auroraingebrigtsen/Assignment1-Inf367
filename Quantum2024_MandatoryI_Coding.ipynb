{
 "cells": [
  {
   "cell_type": "markdown",
   "metadata": {},
   "source": [
    "# Assignment 1 - INF367"
   ]
  },
  {
   "cell_type": "code",
   "execution_count": 344,
   "metadata": {},
   "outputs": [],
   "source": [
    "from qiskit import QuantumCircuit, transpile\n",
    "from qiskit_aer import AerSimulator, QasmSimulator\n",
    "from qiskit.visualization import array_to_latex, plot_histogram\n",
    "import numpy as np\n",
    "import qiskit.quantum_info as qi\n",
    "from qiskit.quantum_info import Statevector, Operator\n",
    "import math\n",
    "# To be used for measurments\n",
    "\n",
    "backend = QasmSimulator()\n",
    "def measure(qc: QuantumCircuit, shots=1000):\n",
    "    qc.measure_all()\n",
    "    transpiled_qc = transpile(qc, backend)\n",
    "    job = backend.run(transpiled_qc, shots=shots)\n",
    "    result = job.result()\n",
    "    return result.get_counts()"
   ]
  },
  {
   "cell_type": "markdown",
   "metadata": {},
   "source": [
    "### 1.1 Playing with Quantum Circuits\n",
    "\n",
    "1. Implement circuit to produce  |ψ⟩ = 1√2 ( |RRLL⟩ − |LLRR⟩ )"
   ]
  },
  {
   "cell_type": "code",
   "execution_count": 682,
   "metadata": {},
   "outputs": [
    {
     "data": {
      "text/latex": [
       "$$\\frac{\\sqrt{2}}{4} |0001\\rangle+\\frac{\\sqrt{2}}{4} |0010\\rangle- \\frac{\\sqrt{2}}{4} |0100\\rangle+\\frac{\\sqrt{2}}{4} |0111\\rangle- \\frac{\\sqrt{2}}{4} |1000\\rangle+\\frac{\\sqrt{2}}{4} |1011\\rangle- \\frac{\\sqrt{2}}{4} |1101\\rangle- \\frac{\\sqrt{2}}{4} |1110\\rangle$$"
      ],
      "text/plain": [
       "<IPython.core.display.Latex object>"
      ]
     },
     "metadata": {},
     "output_type": "display_data"
    },
    {
     "data": {
      "text/html": [
       "<pre style=\"word-wrap: normal;white-space: pre;background: #fff0;line-height: 1.1;font-family: &quot;Courier New&quot;,Courier,monospace\">     ┌───┐                                           \n",
       "q_3: ┤ H ├─────────────────────────────■───────────■─\n",
       "     ├───┤                             │           │ \n",
       "q_2: ┤ H ├────────────────────────■────┼────────■──┼─\n",
       "     ├───┤┌───────────────┐┌───┐┌─┴─┐  │  ┌───┐ │  │ \n",
       "q_1: ┤ H ├┤ U(5π/2,2π,2π) ├┤ X ├┤ X ├──┼──┤ Z ├─┼──■─\n",
       "     ├───┤└───────────────┘└─┬─┘└───┘┌─┴─┐├───┤ │    \n",
       "q_0: ┤ H ├───────────────────■───────┤ X ├┤ Z ├─■────\n",
       "     └───┘                           └───┘└───┘      </pre>"
      ],
      "text/plain": [
       "     ┌───┐                                           \n",
       "q_3: ┤ H ├─────────────────────────────■───────────■─\n",
       "     ├───┤                             │           │ \n",
       "q_2: ┤ H ├────────────────────────■────┼────────■──┼─\n",
       "     ├───┤┌───────────────┐┌───┐┌─┴─┐  │  ┌───┐ │  │ \n",
       "q_1: ┤ H ├┤ U(5π/2,2π,2π) ├┤ X ├┤ X ├──┼──┤ Z ├─┼──■─\n",
       "     ├───┤└───────────────┘└─┬─┘└───┘┌─┴─┐├───┤ │    \n",
       "q_0: ┤ H ├───────────────────■───────┤ X ├┤ Z ├─■────\n",
       "     └───┘                           └───┘└───┘      "
      ]
     },
     "metadata": {},
     "output_type": "display_data"
    },
    {
     "data": {
      "text/latex": [
       "$$\n",
       "\n",
       "\\begin{bmatrix}\n",
       "0 & 0 & - \\frac{\\sqrt{2}}{4} & - \\frac{\\sqrt{2}}{4} & \\cdots & 0 & - \\frac{\\sqrt{2}}{4} & - \\frac{\\sqrt{2}}{4}  \\\\\n",
       " \\frac{\\sqrt{2}}{4} & - \\frac{\\sqrt{2}}{4} & 0 & 0 & \\cdots & - \\frac{\\sqrt{2}}{4} & 0 & 0  \\\\\n",
       " \\frac{\\sqrt{2}}{4} & \\frac{\\sqrt{2}}{4} & 0 & 0 & \\cdots & \\frac{\\sqrt{2}}{4} & 0 & 0  \\\\\n",
       " 0 & 0 & - \\frac{\\sqrt{2}}{4} & \\frac{\\sqrt{2}}{4} & \\cdots & 0 & - \\frac{\\sqrt{2}}{4} & \\frac{\\sqrt{2}}{4}  \\\\\n",
       " \\vdots & \\vdots & \\vdots & \\vdots & \\ddots & \\vdots & \\vdots & \\vdots \\\\\n",
       " - \\frac{\\sqrt{2}}{4} & - \\frac{\\sqrt{2}}{4} & 0 & 0 & \\cdots & - \\frac{\\sqrt{2}}{4} & 0 & 0  \\\\\n",
       " - \\frac{\\sqrt{2}}{4} & \\frac{\\sqrt{2}}{4} & 0 & 0 & \\cdots & \\frac{\\sqrt{2}}{4} & 0 & 0  \\\\\n",
       " 0 & 0 & - \\frac{\\sqrt{2}}{4} & - \\frac{\\sqrt{2}}{4} & \\cdots & 0 & - \\frac{\\sqrt{2}}{4} & - \\frac{\\sqrt{2}}{4}  \\\\\n",
       " \\end{bmatrix}\n",
       "$$"
      ],
      "text/plain": [
       "<IPython.core.display.Latex object>"
      ]
     },
     "metadata": {},
     "output_type": "display_data"
    }
   ],
   "source": [
    "qc = QuantumCircuit(4)\n",
    "\n",
    "qc.h(3)\n",
    "qc.h(2)\n",
    "qc.h(1)\n",
    "qc.h(0)\n",
    "qc.u(np.pi*2.5, np.pi*2, np.pi*2,1)\n",
    "\n",
    "qc.cx(0,1)\n",
    "qc.cx(2,1)\n",
    "qc.cx(3,0)\n",
    "qc.z(0)\n",
    "\n",
    "qc.z(1)\n",
    "qc.cz(2,0)\n",
    "qc.cz(3,1)\n",
    "\n",
    "statevector = Statevector(qc)\n",
    "x = Operator(qc).to_matrix()\n",
    "\n",
    "display(statevector.draw('latex'))\n",
    "display(qc.draw(reverse_bits=True))\n",
    "display(array_to_latex(x))\n"
   ]
  },
  {
   "cell_type": "markdown",
   "metadata": {},
   "source": [
    "2. Full standard measurment"
   ]
  },
  {
   "cell_type": "code",
   "execution_count": 683,
   "metadata": {},
   "outputs": [],
   "source": [
    "res = measure(qc, shots=1000)\n"
   ]
  },
  {
   "cell_type": "code",
   "execution_count": 684,
   "metadata": {},
   "outputs": [
    {
     "name": "stdout",
     "output_type": "stream",
     "text": [
      "Circuit:\n"
     ]
    },
    {
     "data": {
      "text/html": [
       "<pre style=\"word-wrap: normal;white-space: pre;background: #fff0;line-height: 1.1;font-family: &quot;Courier New&quot;,Courier,monospace\">        ┌───┐                                            ░          ┌─┐\n",
       "   q_3: ┤ H ├─────────────────────────────■───────────■──░──────────┤M├\n",
       "        ├───┤                             │           │  ░       ┌─┐└╥┘\n",
       "   q_2: ┤ H ├────────────────────────■────┼────────■──┼──░───────┤M├─╫─\n",
       "        ├───┤┌───────────────┐┌───┐┌─┴─┐  │  ┌───┐ │  │  ░    ┌─┐└╥┘ ║ \n",
       "   q_1: ┤ H ├┤ U(5π/2,2π,2π) ├┤ X ├┤ X ├──┼──┤ Z ├─┼──■──░────┤M├─╫──╫─\n",
       "        ├───┤└───────────────┘└─┬─┘└───┘┌─┴─┐├───┤ │     ░ ┌─┐└╥┘ ║  ║ \n",
       "   q_0: ┤ H ├───────────────────■───────┤ X ├┤ Z ├─■─────░─┤M├─╫──╫──╫─\n",
       "        └───┘                           └───┘└───┘       ░ └╥┘ ║  ║  ║ \n",
       "meas: 4/════════════════════════════════════════════════════╩══╩══╩══╩═\n",
       "                                                            0  1  2  3 </pre>"
      ],
      "text/plain": [
       "        ┌───┐                                            ░          ┌─┐\n",
       "   q_3: ┤ H ├─────────────────────────────■───────────■──░──────────┤M├\n",
       "        ├───┤                             │           │  ░       ┌─┐└╥┘\n",
       "   q_2: ┤ H ├────────────────────────■────┼────────■──┼──░───────┤M├─╫─\n",
       "        ├───┤┌───────────────┐┌───┐┌─┴─┐  │  ┌───┐ │  │  ░    ┌─┐└╥┘ ║ \n",
       "   q_1: ┤ H ├┤ U(5π/2,2π,2π) ├┤ X ├┤ X ├──┼──┤ Z ├─┼──■──░────┤M├─╫──╫─\n",
       "        ├───┤└───────────────┘└─┬─┘└───┘┌─┴─┐├───┤ │     ░ ┌─┐└╥┘ ║  ║ \n",
       "   q_0: ┤ H ├───────────────────■───────┤ X ├┤ Z ├─■─────░─┤M├─╫──╫──╫─\n",
       "        └───┘                           └───┘└───┘       ░ └╥┘ ║  ║  ║ \n",
       "meas: 4/════════════════════════════════════════════════════╩══╩══╩══╩═\n",
       "                                                            0  1  2  3 "
      ]
     },
     "metadata": {},
     "output_type": "display_data"
    },
    {
     "name": "stdout",
     "output_type": "stream",
     "text": [
      "Result: {'0100': 149, '1101': 128, '0001': 132, '0111': 134, '1000': 120, '1110': 103, '1011': 114, '0010': 120}\n",
      "\n",
      "Histogram:\n"
     ]
    },
    {
     "data": {
      "image/png": "[encoded data removed]",
      "text/plain": [
       "<Figure size 640x480 with 1 Axes>"
      ]
     },
     "execution_count": 684,
     "metadata": {},
     "output_type": "execute_result"
    }
   ],
   "source": [
    "print('Circuit:')\n",
    "display(qc.draw(reverse_bits=True))\n",
    "\n",
    "print('Result:',res,end='\\n\\n')\n",
    "\n",
    "print('Histogram:')\n",
    "plot_histogram(res)"
   ]
  },
  {
   "cell_type": "markdown",
   "metadata": {},
   "source": [
    "3. Inverese circuit"
   ]
  },
  {
   "cell_type": "code",
   "execution_count": 699,
   "metadata": {},
   "outputs": [
    {
     "name": "stdout",
     "output_type": "stream",
     "text": [
      "Statevector:\n"
     ]
    },
    {
     "data": {
      "text/latex": [
       "$$ |0000\\rangle$$"
      ],
      "text/plain": [
       "<IPython.core.display.Latex object>"
      ]
     },
     "metadata": {},
     "output_type": "display_data"
    },
    {
     "name": "stdout",
     "output_type": "stream",
     "text": [
      "Circuit:\n"
     ]
    },
    {
     "data": {
      "text/html": [
       "<pre style=\"word-wrap: normal;white-space: pre;background: #fff0;line-height: 1.1;font-family: &quot;Courier New&quot;,Courier,monospace\">     ┌───┐                                                                 »\n",
       "q_3: ┤ H ├─────────────────────────────■───────────■───■───────────■───────»\n",
       "     ├───┤                             │           │   │           │       »\n",
       "q_2: ┤ H ├────────────────────────■────┼────────■──┼───┼──■────────┼────■──»\n",
       "     ├───┤┌───────────────┐┌───┐┌─┴─┐  │  ┌───┐ │  │   │  │ ┌───┐  │  ┌─┴─┐»\n",
       "q_1: ┤ H ├┤ U(5π/2,2π,2π) ├┤ X ├┤ X ├──┼──┤ Z ├─┼──■───■──┼─┤ Z ├──┼──┤ X ├»\n",
       "     ├───┤└───────────────┘└─┬─┘└───┘┌─┴─┐├───┤ │         │ ├───┤┌─┴─┐└───┘»\n",
       "q_0: ┤ H ├───────────────────■───────┤ X ├┤ Z ├─■─────────■─┤ Z ├┤ X ├─────»\n",
       "     └───┘                           └───┘└───┘             └───┘└───┘     »\n",
       "«                               ┌───┐\n",
       "«q_3: ──────────────────────────┤ H ├\n",
       "«                               ├───┤\n",
       "«q_2: ──────────────────────────┤ H ├\n",
       "«     ┌───┐┌──────────────────┐ ├───┤\n",
       "«q_1: ┤ X ├┤ U(-5π/2,-2π,-2π) ├─┤ H ├\n",
       "«     └─┬─┘└──────────────────┘ ├───┤\n",
       "«q_0: ──■───────────────────────┤ H ├\n",
       "«                               └───┘</pre>"
      ],
      "text/plain": [
       "     ┌───┐                                                                 »\n",
       "q_3: ┤ H ├─────────────────────────────■───────────■───■───────────■───────»\n",
       "     ├───┤                             │           │   │           │       »\n",
       "q_2: ┤ H ├────────────────────────■────┼────────■──┼───┼──■────────┼────■──»\n",
       "     ├───┤┌───────────────┐┌───┐┌─┴─┐  │  ┌───┐ │  │   │  │ ┌───┐  │  ┌─┴─┐»\n",
       "q_1: ┤ H ├┤ U(5π/2,2π,2π) ├┤ X ├┤ X ├──┼──┤ Z ├─┼──■───■──┼─┤ Z ├──┼──┤ X ├»\n",
       "     ├───┤└───────────────┘└─┬─┘└───┘┌─┴─┐├───┤ │         │ ├───┤┌─┴─┐└───┘»\n",
       "q_0: ┤ H ├───────────────────■───────┤ X ├┤ Z ├─■─────────■─┤ Z ├┤ X ├─────»\n",
       "     └───┘                           └───┘└───┘             └───┘└───┘     »\n",
       "«                               ┌───┐\n",
       "«q_3: ──────────────────────────┤ H ├\n",
       "«                               ├───┤\n",
       "«q_2: ──────────────────────────┤ H ├\n",
       "«     ┌───┐┌──────────────────┐ ├───┤\n",
       "«q_1: ┤ X ├┤ U(-5π/2,-2π,-2π) ├─┤ H ├\n",
       "«     └─┬─┘└──────────────────┘ ├───┤\n",
       "«q_0: ──■───────────────────────┤ H ├\n",
       "«                               └───┘"
      ]
     },
     "metadata": {},
     "output_type": "display_data"
    },
    {
     "name": "stdout",
     "output_type": "stream",
     "text": [
      "Output matrix:\n"
     ]
    },
    {
     "data": {
      "text/latex": [
       "$$\n",
       "\n",
       "\\begin{bmatrix}\n",
       "1 & 0 & 0 & 0 & \\cdots & 0 & 0 & 0  \\\\\n",
       " 0 & 1 & 0 & 0 & \\cdots & 0 & 0 & 0  \\\\\n",
       " 0 & 0 & 1 & 0 & \\cdots & 0 & 0 & 0  \\\\\n",
       " 0 & 0 & 0 & 1 & \\cdots & 0 & 0 & 0  \\\\\n",
       " \\vdots & \\vdots & \\vdots & \\vdots & \\ddots & \\vdots & \\vdots & \\vdots \\\\\n",
       " 0 & 0 & 0 & 0 & \\cdots & 1 & 0 & 0  \\\\\n",
       " 0 & 0 & 0 & 0 & \\cdots & 0 & 1 & 0  \\\\\n",
       " 0 & 0 & 0 & 0 & \\cdots & 0 & 0 & 1  \\\\\n",
       " \\end{bmatrix}\n",
       "$$"
      ],
      "text/plain": [
       "<IPython.core.display.Latex object>"
      ]
     },
     "metadata": {},
     "output_type": "display_data"
    }
   ],
   "source": [
    "# Original circuit\n",
    "\n",
    "qc = QuantumCircuit(4)\n",
    "\n",
    "qc.h(3)\n",
    "qc.h(2)\n",
    "qc.h(1)\n",
    "qc.h(0)\n",
    "qc.u(np.pi*2.5, np.pi*2, np.pi*2,1)\n",
    "qc.cx(0,1)\n",
    "qc.cx(2,1)\n",
    "qc.cx(3,0)\n",
    "qc.z(0)\n",
    "qc.z(1)\n",
    "qc.cz(2,0)\n",
    "qc.cz(3,1)\n",
    "\n",
    "qc.barrier()\n",
    "\n",
    "# Inversing the circuit\n",
    "\n",
    "qc.cz(3,1)\n",
    "qc.cz(2,0)\n",
    "qc.z(1)\n",
    "qc.z(0)\n",
    "qc.cx(3,0)\n",
    "qc.cx(2,1)\n",
    "qc.cx(0,1)\n",
    "\n",
    "qc.u(-1*np.pi*2.5, -1*np.pi*2, -1*np.pi*2, 1)\n",
    " \n",
    "qc.barrier()\n",
    "qc.h(0)\n",
    "qc.h(1)\n",
    "qc.h(2)\n",
    "qc.h(3)\n",
    "\n",
    "statevector = Statevector(qc)\n",
    "x_inverse = Operator(qc).to_matrix()\n",
    "\n",
    "print('Statevector:')\n",
    "display(statevector.draw('latex'))\n",
    "\n",
    "print('Circuit:')\n",
    "display(qc.draw(reverse_bits=True, plot_barriers=False))\n",
    "\n",
    "print('Output matrix:')\n",
    "display(array_to_latex(x_inverse))\n"
   ]
  },
  {
   "cell_type": "markdown",
   "metadata": {},
   "source": [
    "We flipped the order of the gates, and found that the U-gate had to be inversed. We looked at the conjugated and transformed version of the matrix concluding that $\\phi$ and $\\lambda$ had to be negative and change place. Due to the negativity of sin when flipping the matrix, $\\theta$ had to be negative. Having a negative $\\theta$ would not affect the value of cos.\n",
    "\n",
    "We also found that qiskit had a method for inversing a circuit, and we used this to doublecheck our result."
   ]
  },
  {
   "cell_type": "code",
   "execution_count": 703,
   "metadata": {},
   "outputs": [
    {
     "name": "stdout",
     "output_type": "stream",
     "text": [
      "Inversed circuit using qiskit's method:\n"
     ]
    },
    {
     "data": {
      "text/html": [
       "<pre style=\"word-wrap: normal;white-space: pre;background: #fff0;line-height: 1.1;font-family: &quot;Courier New&quot;,Courier,monospace\">                                                    ░ ┌───┐\n",
       "q_3: ─■───────────■─────────────────────────────────░─┤ H ├\n",
       "      │           │                                 ░ ├───┤\n",
       "q_2: ─┼──■────────┼────■────────────────────────────░─┤ H ├\n",
       "      │  │ ┌───┐  │  ┌─┴─┐┌───┐┌──────────────────┐ ░ ├───┤\n",
       "q_1: ─■──┼─┤ Z ├──┼──┤ X ├┤ X ├┤ U(-5π/2,-2π,-2π) ├─░─┤ H ├\n",
       "         │ ├───┤┌─┴─┐└───┘└─┬─┘└──────────────────┘ ░ ├───┤\n",
       "q_0: ────■─┤ Z ├┤ X ├───────■───────────────────────░─┤ H ├\n",
       "           └───┘└───┘                               ░ └───┘</pre>"
      ],
      "text/plain": [
       "                                                    ░ ┌───┐\n",
       "q_3: ─■───────────■─────────────────────────────────░─┤ H ├\n",
       "      │           │                                 ░ ├───┤\n",
       "q_2: ─┼──■────────┼────■────────────────────────────░─┤ H ├\n",
       "      │  │ ┌───┐  │  ┌─┴─┐┌───┐┌──────────────────┐ ░ ├───┤\n",
       "q_1: ─■──┼─┤ Z ├──┼──┤ X ├┤ X ├┤ U(-5π/2,-2π,-2π) ├─░─┤ H ├\n",
       "         │ ├───┤┌─┴─┐└───┘└─┬─┘└──────────────────┘ ░ ├───┤\n",
       "q_0: ────■─┤ Z ├┤ X ├───────■───────────────────────░─┤ H ├\n",
       "           └───┘└───┘                               ░ └───┘"
      ]
     },
     "execution_count": 703,
     "metadata": {},
     "output_type": "execute_result"
    }
   ],
   "source": [
    "qc = QuantumCircuit(4)\n",
    "\n",
    "qc.h(3)\n",
    "qc.h(2)\n",
    "qc.h(1)\n",
    "qc.h(0)\n",
    "qc.barrier()\n",
    "qc.u(np.pi*2.5, np.pi*2, np.pi*2,1)\n",
    "\n",
    "qc.cx(0,1)\n",
    "qc.cx(2,1)\n",
    "qc.cx(3,0)\n",
    "qc.z(0)\n",
    "qc.z(1)\n",
    "qc.cz(2,0)\n",
    "qc.cz(3,1)\n",
    "\n",
    "\n",
    "\n",
    "qx = qc.inverse()\n",
    "print(\"Inversed circuit using qiskit's method:\")\n",
    "qx.draw(reverse_bits=True)"
   ]
  },
  {
   "cell_type": "markdown",
   "metadata": {},
   "source": [
    "### 1.2 Quantum State Tomography\n",
    "\n",
    "1. Implementing circuit in Qiskit"
   ]
  },
  {
   "cell_type": "code",
   "execution_count": 704,
   "metadata": {},
   "outputs": [
    {
     "name": "stdout",
     "output_type": "stream",
     "text": [
      "Circuit:\n"
     ]
    },
    {
     "data": {
      "text/html": [
       "<pre style=\"word-wrap: normal;white-space: pre;background: #fff0;line-height: 1.1;font-family: &quot;Courier New&quot;,Courier,monospace\">   ┌───┐┌───┐┌─────┐┌───┐┌───┐┌─────────┐┌───┐\n",
       "q: ┤ X ├┤ H ├┤ Tdg ├┤ Z ├┤ Y ├┤ Rx(1.6) ├┤ S ├\n",
       "   └───┘└───┘└─────┘└───┘└───┘└─────────┘└───┘</pre>"
      ],
      "text/plain": [
       "   ┌───┐┌───┐┌─────┐┌───┐┌───┐┌─────────┐┌───┐\n",
       "q: ┤ X ├┤ H ├┤ Tdg ├┤ Z ├┤ Y ├┤ Rx(1.6) ├┤ S ├\n",
       "   └───┘└───┘└─────┘└───┘└───┘└─────────┘└───┘"
      ]
     },
     "metadata": {},
     "output_type": "display_data"
    }
   ],
   "source": [
    "qc = QuantumCircuit(1)\n",
    "qc.x(0)\n",
    "qc.h(0)\n",
    "qc.tdg(0)\n",
    "qc.z(0)\n",
    "qc.y(0)\n",
    "qc.rx(theta=1.6,qubit=0)\n",
    "qc.s(0)\n",
    "print('Circuit:')\n",
    "display(qc.draw(reverse_bits=True))"
   ]
  },
  {
   "cell_type": "markdown",
   "metadata": {},
   "source": [
    "2. Retrieve statevector"
   ]
  },
  {
   "cell_type": "code",
   "execution_count": 705,
   "metadata": {},
   "outputs": [
    {
     "name": "stdout",
     "output_type": "stream",
     "text": [
      "Statevector:\n"
     ]
    },
    {
     "data": {
      "text/latex": [
       "$$(0.1588940017 - 0.3483533547 i) |0\\rangle+(-0.8513240841 - 0.3586780454 i) |1\\rangle$$"
      ],
      "text/plain": [
       "<IPython.core.display.Latex object>"
      ]
     },
     "metadata": {},
     "output_type": "display_data"
    }
   ],
   "source": [
    "statevector = Statevector(qc)\n",
    "print('Statevector:')\n",
    "display(statevector.draw('latex'))"
   ]
  },
  {
   "cell_type": "markdown",
   "metadata": {},
   "source": [
    "3. Apply measurements"
   ]
  },
  {
   "cell_type": "code",
   "execution_count": 706,
   "metadata": {},
   "outputs": [],
   "source": [
    "# Created function as we will use the same circuit many times\n",
    "\n",
    "def create_circuit():\n",
    "    qc = QuantumCircuit(1,1)\n",
    "    qc.x(0)\n",
    "    qc.h(0)\n",
    "\n",
    "    qc.tdg(0)\n",
    "    qc.z(0)\n",
    "    qc.y(0)\n",
    "    qc.rx(theta=1.6,qubit=0)\n",
    "    qc.s(0)\n",
    "\n",
    "    return qc"
   ]
  },
  {
   "cell_type": "markdown",
   "metadata": {},
   "source": [
    "Z-basis (0,1)"
   ]
  },
  {
   "cell_type": "code",
   "execution_count": 707,
   "metadata": {},
   "outputs": [
    {
     "name": "stdout",
     "output_type": "stream",
     "text": [
      "Circuit:\n"
     ]
    },
    {
     "data": {
      "text/html": [
       "<pre style=\"word-wrap: normal;white-space: pre;background: #fff0;line-height: 1.1;font-family: &quot;Courier New&quot;,Courier,monospace\">     ┌───┐┌───┐┌─────┐┌───┐┌───┐┌─────────┐┌───┐┌─┐\n",
       "  q: ┤ X ├┤ H ├┤ Tdg ├┤ Z ├┤ Y ├┤ Rx(1.6) ├┤ S ├┤M├\n",
       "     └───┘└───┘└─────┘└───┘└───┘└─────────┘└───┘└╥┘\n",
       "c: 1/════════════════════════════════════════════╩═\n",
       "                                                 0 </pre>"
      ],
      "text/plain": [
       "     ┌───┐┌───┐┌─────┐┌───┐┌───┐┌─────────┐┌───┐┌─┐\n",
       "  q: ┤ X ├┤ H ├┤ Tdg ├┤ Z ├┤ Y ├┤ Rx(1.6) ├┤ S ├┤M├\n",
       "     └───┘└───┘└─────┘└───┘└───┘└─────────┘└───┘└╥┘\n",
       "c: 1/════════════════════════════════════════════╩═\n",
       "                                                 0 "
      ]
     },
     "metadata": {},
     "output_type": "display_data"
    },
    {
     "name": "stdout",
     "output_type": "stream",
     "text": [
      "Statevector:\n"
     ]
    },
    {
     "data": {
      "text/latex": [
       "$$(0.1588940017 - 0.3483533547 i) |0\\rangle+(-0.8513240841 - 0.3586780454 i) |1\\rangle$$"
      ],
      "text/plain": [
       "<IPython.core.display.Latex object>"
      ]
     },
     "metadata": {},
     "output_type": "display_data"
    },
    {
     "name": "stdout",
     "output_type": "stream",
     "text": [
      "{'1': 846, '0': 154}\n"
     ]
    }
   ],
   "source": [
    "z_basis = create_circuit() # z-basis is the standard basis\n",
    "z_basis.measure(0,0)\n",
    "print('Circuit:')\n",
    "display(z_basis.draw(reverse_bits=True))\n",
    "\n",
    "statevector = Statevector(qc)\n",
    "print('Statevector:')\n",
    "display(statevector.draw('latex'))\n",
    "backend = AerSimulator()\n",
    "job = backend.run(z_basis, shots=1000)\n",
    "z_basis_results= job.result().get_counts()\n",
    "print(z_basis_results)"
   ]
  },
  {
   "cell_type": "markdown",
   "metadata": {},
   "source": [
    "X-basis (+,-)"
   ]
  },
  {
   "cell_type": "code",
   "execution_count": 708,
   "metadata": {},
   "outputs": [
    {
     "name": "stdout",
     "output_type": "stream",
     "text": [
      "Statevector:\n"
     ]
    },
    {
     "data": {
      "text/latex": [
       "$$(0.1588940017 - 0.3483533547 i) |0\\rangle+(-0.8513240841 - 0.3586780454 i) |1\\rangle$$"
      ],
      "text/plain": [
       "<IPython.core.display.Latex object>"
      ]
     },
     "metadata": {},
     "output_type": "display_data"
    },
    {
     "name": "stdout",
     "output_type": "stream",
     "text": [
      "Output matrix:\n"
     ]
    },
    {
     "data": {
      "text/latex": [
       "$$\n",
       "\n",
       "\\begin{bmatrix}\n",
       "0.1588940017 - 0.3483533547 i & 0.8556007111 + 0.3483533547 i  \\\\\n",
       " -0.8513240841 - 0.3586780454 i & -0.1339679932 + 0.3586780454 i  \\\\\n",
       " \\end{bmatrix}\n",
       "$$"
      ],
      "text/plain": [
       "<IPython.core.display.Latex object>"
      ]
     },
     "metadata": {},
     "output_type": "display_data"
    },
    {
     "name": "stdout",
     "output_type": "stream",
     "text": [
      "Circuit:\n"
     ]
    },
    {
     "data": {
      "text/html": [
       "<pre style=\"word-wrap: normal;white-space: pre;background: #fff0;line-height: 1.1;font-family: &quot;Courier New&quot;,Courier,monospace\">     ┌───┐┌───┐┌─────┐┌───┐┌───┐┌─────────┐┌───┐┌─┐\n",
       "  q: ┤ X ├┤ H ├┤ Tdg ├┤ Z ├┤ Y ├┤ Rx(1.6) ├┤ S ├┤M├\n",
       "     └───┘└───┘└─────┘└───┘└───┘└─────────┘└───┘└╥┘\n",
       "c: 1/════════════════════════════════════════════╩═\n",
       "                                                 0 </pre>"
      ],
      "text/plain": [
       "     ┌───┐┌───┐┌─────┐┌───┐┌───┐┌─────────┐┌───┐┌─┐\n",
       "  q: ┤ X ├┤ H ├┤ Tdg ├┤ Z ├┤ Y ├┤ Rx(1.6) ├┤ S ├┤M├\n",
       "     └───┘└───┘└─────┘└───┘└───┘└─────────┘└───┘└╥┘\n",
       "c: 1/════════════════════════════════════════════╩═\n",
       "                                                 0 "
      ]
     },
     "metadata": {},
     "output_type": "display_data"
    },
    {
     "data": {
      "image/png": "[encoded data removed]",
      "text/plain": [
       "<Figure size 640x480 with 1 Axes>"
      ]
     },
     "execution_count": 708,
     "metadata": {},
     "output_type": "execute_result"
    }
   ],
   "source": [
    "z_basis = create_circuit() # z-basis is the standard basis\n",
    "\n",
    "print('Statevector:')\n",
    "statevector = Statevector(z_basis)\n",
    "display(statevector.draw('latex'))\n",
    "\n",
    "print('Output matrix:')\n",
    "matrix = Operator(z_basis).to_matrix()\n",
    "display(array_to_latex(matrix))\n",
    "\n",
    "z_basis.measure(0,0)\n",
    "print('Circuit:')\n",
    "display(z_basis.draw(reverse_bits=True))\n",
    "\n",
    "plot_histogram(job.result().get_counts())"
   ]
  },
  {
   "cell_type": "markdown",
   "metadata": {},
   "source": [
    "Measuring in the X-basis (+,-)"
   ]
  },
  {
   "cell_type": "code",
   "execution_count": 709,
   "metadata": {},
   "outputs": [
    {
     "name": "stdout",
     "output_type": "stream",
     "text": [
      "Statevector:\n"
     ]
    },
    {
     "data": {
      "text/latex": [
       "$$(-0.4896220068 - 0.4999466975 i) |0\\rangle+(0.714332059 + 0.0073006589 i) |1\\rangle$$"
      ],
      "text/plain": [
       "<IPython.core.display.Latex object>"
      ]
     },
     "metadata": {},
     "output_type": "display_data"
    },
    {
     "name": "stdout",
     "output_type": "stream",
     "text": [
      "Circuit:\n"
     ]
    },
    {
     "data": {
      "text/html": [
       "<pre style=\"word-wrap: normal;white-space: pre;background: #fff0;line-height: 1.1;font-family: &quot;Courier New&quot;,Courier,monospace\">     ┌───┐┌───┐┌─────┐┌───┐┌───┐┌─────────┐┌───┐┌───┐┌─┐\n",
       "  q: ┤ X ├┤ H ├┤ Tdg ├┤ Z ├┤ Y ├┤ Rx(1.6) ├┤ S ├┤ H ├┤M├\n",
       "     └───┘└───┘└─────┘└───┘└───┘└─────────┘└───┘└───┘└╥┘\n",
       "c: 1/═════════════════════════════════════════════════╩═\n",
       "                                                      0 </pre>"
      ],
      "text/plain": [
       "     ┌───┐┌───┐┌─────┐┌───┐┌───┐┌─────────┐┌───┐┌───┐┌─┐\n",
       "  q: ┤ X ├┤ H ├┤ Tdg ├┤ Z ├┤ Y ├┤ Rx(1.6) ├┤ S ├┤ H ├┤M├\n",
       "     └───┘└───┘└─────┘└───┘└───┘└─────────┘└───┘└───┘└╥┘\n",
       "c: 1/═════════════════════════════════════════════════╩═\n",
       "                                                      0 "
      ]
     },
     "metadata": {},
     "output_type": "display_data"
    },
    {
     "data": {
      "image/png": "[encoded data removed]",
      "text/plain": [
       "<Figure size 640x480 with 1 Axes>"
      ]
     },
     "execution_count": 709,
     "metadata": {},
     "output_type": "execute_result"
    }
   ],
   "source": [
    "x_basis = create_circuit() \n",
    "\n",
    "x_basis.h(0) # change from standard basis to x-basis\n",
    "print('Statevector:')\n",
    "statevector = Statevector(x_basis)\n",
    "display(statevector.draw('latex'))\n",
    "\n",
    "x_basis.measure(0,0)\n",
    "print('Circuit:')\n",
    "display(x_basis.draw(reverse_bits=True))\n",
    "\n",
    "backend = AerSimulator()\n",
    "job = backend.run(x_basis, shots=1000)\n",
    "x_basis_results= job.result().get_counts()\n",
    "plot_histogram(job.result().get_counts())"
   ]
  },
  {
   "cell_type": "markdown",
   "metadata": {},
   "source": [
    "Measuring in the Y-basis (R,L)"
   ]
  },
  {
   "cell_type": "code",
   "execution_count": 710,
   "metadata": {},
   "outputs": [
    {
     "name": "stdout",
     "output_type": "stream",
     "text": [
      "Circuit:\n"
     ]
    },
    {
     "data": {
      "text/html": [
       "<pre style=\"word-wrap: normal;white-space: pre;background: #fff0;line-height: 1.1;font-family: &quot;Courier New&quot;,Courier,monospace\">     ┌───┐┌───┐┌─────┐┌───┐┌───┐┌─────────┐┌───┐┌─────┐┌───┐┌─┐\n",
       "  q: ┤ X ├┤ H ├┤ Tdg ├┤ Z ├┤ Y ├┤ Rx(1.6) ├┤ S ├┤ Sdg ├┤ H ├┤M├\n",
       "     └───┘└───┘└─────┘└───┘└───┘└─────────┘└───┘└─────┘└───┘└╥┘\n",
       "c: 1/════════════════════════════════════════════════════════╩═\n",
       "                                                             0 </pre>"
      ],
      "text/plain": [
       "     ┌───┐┌───┐┌─────┐┌───┐┌───┐┌─────────┐┌───┐┌─────┐┌───┐┌─┐\n",
       "  q: ┤ X ├┤ H ├┤ Tdg ├┤ Z ├┤ Y ├┤ Rx(1.6) ├┤ S ├┤ Sdg ├┤ H ├┤M├\n",
       "     └───┘└───┘└─────┘└───┘└───┘└─────────┘└───┘└─────┘└───┘└╥┘\n",
       "c: 1/════════════════════════════════════════════════════════╩═\n",
       "                                                             0 "
      ]
     },
     "metadata": {},
     "output_type": "display_data"
    },
    {
     "name": "stdout",
     "output_type": "stream",
     "text": [
      "{'0': 460, '1': 540}\n"
     ]
    }
   ],
   "source": [
    "y_basis = create_circuit()\n",
    "y_basis.sdg(0) # turn from standard basis to y-basis\n",
    "y_basis.h(0)\n",
    "y_basis.measure(0,0)\n",
    "print('Circuit:')\n",
    "display(y_basis.draw(reverse_bits=True))\n",
    "backend = AerSimulator()\n",
    "job = backend.run(x_basis, shots=1000)\n",
    "y_basis_results= job.result().get_counts()\n",
    "print(y_basis_results)"
   ]
  },
  {
   "cell_type": "code",
   "execution_count": 711,
   "metadata": {},
   "outputs": [
    {
     "name": "stdout",
     "output_type": "stream",
     "text": [
      "Statevector:\n"
     ]
    },
    {
     "data": {
      "text/latex": [
       "$$(-0.4896220068 - 0.4999466975 i) |0\\rangle+(0.714332059 + 0.0073006589 i) |1\\rangle$$"
      ],
      "text/plain": [
       "<IPython.core.display.Latex object>"
      ]
     },
     "metadata": {},
     "output_type": "display_data"
    }
   ],
   "source": [
    "print('Statevector:')\n",
    "display(statevector.draw('latex'))\n",
    "#qc.\n",
    "res = measure(qc, shots=1000)\n"
   ]
  },
  {
   "cell_type": "code",
   "execution_count": 712,
   "metadata": {},
   "outputs": [
    {
     "name": "stdout",
     "output_type": "stream",
     "text": [
      "Circuit:\n"
     ]
    },
    {
     "data": {
      "text/html": [
       "<pre style=\"word-wrap: normal;white-space: pre;background: #fff0;line-height: 1.1;font-family: &quot;Courier New&quot;,Courier,monospace\">     ┌───┐┌───┐┌─────┐┌───┐┌───┐┌─────────┐┌───┐┌─────┐┌───┐┌─┐┌───┐┌─┐\n",
       "  q: ┤ X ├┤ H ├┤ Tdg ├┤ Z ├┤ Y ├┤ Rx(1.6) ├┤ S ├┤ Sdg ├┤ H ├┤M├┤ S ├┤M├\n",
       "     └───┘└───┘└─────┘└───┘└───┘└─────────┘└───┘└─────┘└───┘└╥┘└───┘└╥┘\n",
       "c: 1/════════════════════════════════════════════════════════╩═══════╩═\n",
       "                                                             0       0 </pre>"
      ],
      "text/plain": [
       "     ┌───┐┌───┐┌─────┐┌───┐┌───┐┌─────────┐┌───┐┌─────┐┌───┐┌─┐┌───┐┌─┐\n",
       "  q: ┤ X ├┤ H ├┤ Tdg ├┤ Z ├┤ Y ├┤ Rx(1.6) ├┤ S ├┤ Sdg ├┤ H ├┤M├┤ S ├┤M├\n",
       "     └───┘└───┘└─────┘└───┘└───┘└─────────┘└───┘└─────┘└───┘└╥┘└───┘└╥┘\n",
       "c: 1/════════════════════════════════════════════════════════╩═══════╩═\n",
       "                                                             0       0 "
      ]
     },
     "metadata": {},
     "output_type": "display_data"
    },
    {
     "data": {
      "image/png": "[encoded data removed]",
      "text/plain": [
       "<Figure size 640x480 with 1 Axes>"
      ]
     },
     "execution_count": 712,
     "metadata": {},
     "output_type": "execute_result"
    }
   ],
   "source": [
    "\n",
    "\n",
    "y_basis.s(0) # # change from standard basis to y-basis\n",
    "y_basis.measure(0,0)\n",
    "print('Circuit:')\n",
    "display(y_basis.draw(reverse_bits=True))\n",
    "\n",
    "backend = AerSimulator()\n",
    "job = backend.run(y_basis, shots=1000)\n",
    "plot_histogram(job.result().get_counts())"
   ]
  },
  {
   "cell_type": "markdown",
   "metadata": {},
   "source": [
    "4. Reconstruct state from measurments"
   ]
  },
  {
   "cell_type": "code",
   "execution_count": 728,
   "metadata": {},
   "outputs": [
    {
     "name": "stdout",
     "output_type": "stream",
     "text": [
      "[0.8966891941268466, 5.38649611305274] [0.8930693979426108, 2.4638657247375075]\n",
      "r:0.89, s: 0.45, a: 0.6242, b:0.779\n",
      "[0.9, 5.4] [0.9, 2.5]\n",
      "alpha: 0.9\n",
      "[[0.89      +0.j        ]\n",
      " [0.27972449+0.35249711j]]\n",
      "[1.5930981754697906, 4.690087131709795] [-0.11173233480733619, 1.4590639919875603]\n",
      "r:0.39, s: 0.92, a: -0.0223, b:-0.1115\n",
      "[1.6, 4.7] [-0.1, 1.5]\n",
      "alpha: 1.6\n",
      "[[ 0.39      +0.j        ]\n",
      " [-0.02686356+0.91960771j]]\n"
     ]
    }
   ],
   "source": [
    "#|+> H   =  |0>\n",
    "# |R> sdg H = |0>\n",
    "def reconstruct_state(x_basis_counts,y_basis_counts,z_basis_counts,shots=1000):\n",
    "\n",
    "    r=math.sqrt(z_basis_counts[\"0\"]/shots) \n",
    "    s=math.sqrt(z_basis_counts[\"1\"]/shots)\n",
    "\n",
    "    r=round(r,2)\n",
    "    s=round(s,2)\n",
    "\n",
    "    a=(2*(x_basis_counts[\"0\"]-x_basis_counts[\"1\"])/shots)/(4*r*s)\n",
    "    b= ((2*(y_basis_counts[\"0\"]-y_basis_counts[\"1\"])/shots)) / (4*r*s)\n",
    "\n",
    "    a=round(a,4)\n",
    "    b=round(b,4)\n",
    "\n",
    "    first_alpha= [math.acos(a),2*math.pi-math.acos(a)]\n",
    "    second_alpha= [math.asin(b),math.pi/2 +math.asin(b)]\n",
    "\n",
    "    print(first_alpha,second_alpha)\n",
    "    first_alpha=[round(i,1) for i in first_alpha]\n",
    "    second_alpha=[round(i,1) for i in second_alpha]\n",
    "    alpha=0\n",
    "    for i in first_alpha:\n",
    "        if i in second_alpha:\n",
    "            alpha=i\n",
    "    alpha= first_alpha[0]\n",
    "    print(f\"r:{r}, s: {s}, a: {a}, b:{b}\")\n",
    "    print(first_alpha,second_alpha)\n",
    "    if alpha==0:\n",
    "        print(\"FEIL i alpha\")\n",
    "        return\n",
    "    print(f\"alpha: {alpha}\")\n",
    "    vector1= np.array([[r],[0]])\n",
    "    vector2= (s*np.exp([complex(real=0,imag=alpha)])) * np.array([[0],[1]])\n",
    "    \n",
    "    vector=vector1+vector2\n",
    "    print(vector)\n",
    "\n",
    "\n",
    "reconstruct_state(x_basis_counts={\"1\":250,\"0\":750},y_basis_counts={\"1\":188,\"0\":812},z_basis_counts={\"1\":200,\"0\":800},shots=1000)\n",
    "reconstruct_state(x_basis_counts=x_basis_results,z_basis_counts=z_basis_results,y_basis_counts=y_basis_results)"
   ]
  }
 ],
 "metadata": {
  "kernelspec": {
   "display_name": "INF367venv",
   "language": "python",
   "name": "python3"
  },
  "language_info": {
   "codemirror_mode": {
    "name": "ipython",
    "version": 3
   },
   "file_extension": ".py",
   "mimetype": "text/x-python",
   "name": "python",
   "nbconvert_exporter": "python",
   "pygments_lexer": "ipython3",
   "version": "3.12.6"
  }
 },
 "nbformat": 4,
 "nbformat_minor": 2
}
