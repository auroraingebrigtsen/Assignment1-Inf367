{
 "cells": [
  {
   "cell_type": "markdown",
   "metadata": {},
   "source": [
    "# Assignment 1 - INF367"
   ]
  },
  {
   "cell_type": "code",
   "execution_count": 74,
   "metadata": {},
   "outputs": [],
   "source": [
    "from qiskit import QuantumCircuit, transpile\n",
    "from qiskit_aer import AerSimulator, QasmSimulator\n",
    "from qiskit.visualization import array_to_latex, plot_histogram\n",
    "import numpy as np\n",
    "import qiskit.quantum_info as qi\n",
    "from qiskit.quantum_info import Statevector, Operator\n",
    "\n",
    "\n",
    "# To be used for measurments\n",
    "\n",
    "backend = QasmSimulator()\n",
    "def measure(qc: QuantumCircuit, shots=1000):\n",
    "    qc.measure_all()\n",
    "    transpiled_qc = transpile(qc, backend)\n",
    "    job = backend.run(transpiled_qc, shots=shots)\n",
    "    result = job.result()\n",
    "    return result.get_counts()"
   ]
  },
  {
   "cell_type": "markdown",
   "metadata": {},
   "source": [
    "### 1.1 Playing with Quantum Circuits\n",
    "\n",
    "1. Implement circuit to produce  |ψ⟩ = 1√2 ( |RRLL⟩ − |LLRR⟩ )"
   ]
  },
  {
   "cell_type": "code",
   "execution_count": 60,
   "metadata": {},
   "outputs": [
    {
     "data": {
      "text/latex": [
       "$$- \\frac{\\sqrt{2} i}{4} |0001\\rangle- \\frac{\\sqrt{2} i}{4} |0010\\rangle- \\frac{\\sqrt{2} i}{4} |0100\\rangle- \\frac{\\sqrt{2} i}{4} |0111\\rangle- \\frac{\\sqrt{2} i}{4} |1000\\rangle- \\frac{\\sqrt{2} i}{4} |1011\\rangle- \\frac{\\sqrt{2} i}{4} |1101\\rangle- \\frac{\\sqrt{2} i}{4} |1110\\rangle$$"
      ],
      "text/plain": [
       "<IPython.core.display.Latex object>"
      ]
     },
     "metadata": {},
     "output_type": "display_data"
    },
    {
     "data": {
      "text/html": [
       "<pre style=\"word-wrap: normal;white-space: pre;background: #fff0;line-height: 1.1;font-family: &quot;Courier New&quot;,Courier,monospace\">     ┌───┐                                  \n",
       "q_3: ┤ H ├───────────────────────────────■──\n",
       "     ├───┤                             ┌─┴─┐\n",
       "q_2: ┤ H ├──────────────────────────■──┤ X ├\n",
       "     ├───┤┌─────────────────┐┌───┐┌─┴─┐└───┘\n",
       "q_1: ┤ H ├┤ U(5π/2,5π/2,2π) ├┤ X ├┤ X ├─────\n",
       "     ├───┤└─────────────────┘└─┬─┘└───┘     \n",
       "q_0: ┤ H ├─────────────────────■────────────\n",
       "     └───┘                                  </pre>"
      ],
      "text/plain": [
       "     ┌───┐                                  \n",
       "q_3: ┤ H ├───────────────────────────────■──\n",
       "     ├───┤                             ┌─┴─┐\n",
       "q_2: ┤ H ├──────────────────────────■──┤ X ├\n",
       "     ├───┤┌─────────────────┐┌───┐┌─┴─┐└───┘\n",
       "q_1: ┤ H ├┤ U(5π/2,5π/2,2π) ├┤ X ├┤ X ├─────\n",
       "     ├───┤└─────────────────┘└─┬─┘└───┘     \n",
       "q_0: ┤ H ├─────────────────────■────────────\n",
       "     └───┘                                  "
      ]
     },
     "metadata": {},
     "output_type": "display_data"
    },
    {
     "data": {
      "text/latex": [
       "$$\n",
       "\n",
       "\\begin{bmatrix}\n",
       "0 & 0 & - \\frac{\\sqrt{2}}{4} & - \\frac{\\sqrt{2}}{4} & \\cdots & 0 & - \\frac{\\sqrt{2}}{4} & - \\frac{\\sqrt{2}}{4}  \\\\\n",
       " - \\frac{\\sqrt{2} i}{4} & \\frac{\\sqrt{2} i}{4} & 0 & 0 & \\cdots & \\frac{\\sqrt{2} i}{4} & 0 & 0  \\\\\n",
       " - \\frac{\\sqrt{2} i}{4} & - \\frac{\\sqrt{2} i}{4} & 0 & 0 & \\cdots & - \\frac{\\sqrt{2} i}{4} & 0 & 0  \\\\\n",
       " 0 & 0 & - \\frac{\\sqrt{2}}{4} & \\frac{\\sqrt{2}}{4} & \\cdots & 0 & - \\frac{\\sqrt{2}}{4} & \\frac{\\sqrt{2}}{4}  \\\\\n",
       " \\vdots & \\vdots & \\vdots & \\vdots & \\ddots & \\vdots & \\vdots & \\vdots \\\\\n",
       " - \\frac{\\sqrt{2} i}{4} & \\frac{\\sqrt{2} i}{4} & 0 & 0 & \\cdots & - \\frac{\\sqrt{2} i}{4} & 0 & 0  \\\\\n",
       " - \\frac{\\sqrt{2} i}{4} & - \\frac{\\sqrt{2} i}{4} & 0 & 0 & \\cdots & \\frac{\\sqrt{2} i}{4} & 0 & 0  \\\\\n",
       " 0 & 0 & - \\frac{\\sqrt{2}}{4} & \\frac{\\sqrt{2}}{4} & \\cdots & 0 & \\frac{\\sqrt{2}}{4} & - \\frac{\\sqrt{2}}{4}  \\\\\n",
       " \\end{bmatrix}\n",
       "$$"
      ],
      "text/plain": [
       "<IPython.core.display.Latex object>"
      ]
     },
     "metadata": {},
     "output_type": "display_data"
    }
   ],
   "source": [
    "qc = QuantumCircuit(4)\n",
    "\n",
    "qc.h(3)\n",
    "qc.h(2)\n",
    "qc.h(1)\n",
    "qc.h(0)\n",
    "\n",
    "qc.u(np.pi*2.5, np.pi*2.5, np.pi*2,1)\n",
    "\n",
    "qc.cx(0,1)\n",
    "qc.cx(2,1)\n",
    "qc.cx(3,2)\n",
    "\n",
    "statevector = Statevector(qc)\n",
    "x = Operator(qc).to_matrix()\n",
    "\n",
    "display(statevector.draw('latex'))\n",
    "display(qc.draw(reverse_bits=True))\n",
    "display(array_to_latex(x))\n"
   ]
  },
  {
   "cell_type": "markdown",
   "metadata": {},
   "source": [
    "2. Full standard measurment"
   ]
  },
  {
   "cell_type": "code",
   "execution_count": 61,
   "metadata": {},
   "outputs": [],
   "source": [
    "res = measure(qc, shots=1000)\n"
   ]
  },
  {
   "cell_type": "code",
   "execution_count": 65,
   "metadata": {},
   "outputs": [
    {
     "name": "stdout",
     "output_type": "stream",
     "text": [
      "Circuit:\n"
     ]
    },
    {
     "data": {
      "text/html": [
       "<pre style=\"word-wrap: normal;white-space: pre;background: #fff0;line-height: 1.1;font-family: &quot;Courier New&quot;,Courier,monospace\">        ┌───┐                                   ░          ┌─┐\n",
       "   q_3: ┤ H ├───────────────────────────────■───░──────────┤M├\n",
       "        ├───┤                             ┌─┴─┐ ░       ┌─┐└╥┘\n",
       "   q_2: ┤ H ├──────────────────────────■──┤ X ├─░───────┤M├─╫─\n",
       "        ├───┤┌─────────────────┐┌───┐┌─┴─┐└───┘ ░    ┌─┐└╥┘ ║ \n",
       "   q_1: ┤ H ├┤ U(5π/2,5π/2,2π) ├┤ X ├┤ X ├──────░────┤M├─╫──╫─\n",
       "        ├───┤└─────────────────┘└─┬─┘└───┘      ░ ┌─┐└╥┘ ║  ║ \n",
       "   q_0: ┤ H ├─────────────────────■─────────────░─┤M├─╫──╫──╫─\n",
       "        └───┘                                   ░ └╥┘ ║  ║  ║ \n",
       "meas: 4/═══════════════════════════════════════════╩══╩══╩══╩═\n",
       "                                                   0  1  2  3 </pre>"
      ],
      "text/plain": [
       "        ┌───┐                                   ░          ┌─┐\n",
       "   q_3: ┤ H ├───────────────────────────────■───░──────────┤M├\n",
       "        ├───┤                             ┌─┴─┐ ░       ┌─┐└╥┘\n",
       "   q_2: ┤ H ├──────────────────────────■──┤ X ├─░───────┤M├─╫─\n",
       "        ├───┤┌─────────────────┐┌───┐┌─┴─┐└───┘ ░    ┌─┐└╥┘ ║ \n",
       "   q_1: ┤ H ├┤ U(5π/2,5π/2,2π) ├┤ X ├┤ X ├──────░────┤M├─╫──╫─\n",
       "        ├───┤└─────────────────┘└─┬─┘└───┘      ░ ┌─┐└╥┘ ║  ║ \n",
       "   q_0: ┤ H ├─────────────────────■─────────────░─┤M├─╫──╫──╫─\n",
       "        └───┘                                   ░ └╥┘ ║  ║  ║ \n",
       "meas: 4/═══════════════════════════════════════════╩══╩══╩══╩═\n",
       "                                                   0  1  2  3 "
      ]
     },
     "metadata": {},
     "output_type": "display_data"
    },
    {
     "name": "stdout",
     "output_type": "stream",
     "text": [
      "Result: {'0111': 126, '1101': 115, '0010': 146, '1011': 139, '1000': 121, '1110': 133, '0100': 108, '0001': 112}\n",
      "\n",
      "Histogram:\n"
     ]
    },
    {
     "data": {
      "image/png": "[encoded data removed]",
      "text/plain": [
       "<Figure size 640x480 with 1 Axes>"
      ]
     },
     "execution_count": 65,
     "metadata": {},
     "output_type": "execute_result"
    }
   ],
   "source": [
    "print('Circuit:')\n",
    "display(qc.draw(reverse_bits=True))\n",
    "\n",
    "print('Result:',res,end='\\n\\n')\n",
    "\n",
    "print('Histogram:')\n",
    "plot_histogram(res)"
   ]
  },
  {
   "cell_type": "markdown",
   "metadata": {},
   "source": [
    "3. Inverese circuit"
   ]
  },
  {
   "cell_type": "code",
   "execution_count": 71,
   "metadata": {},
   "outputs": [
    {
     "name": "stdout",
     "output_type": "stream",
     "text": [
      "Statevector:\n"
     ]
    },
    {
     "data": {
      "text/latex": [
       "$$ |0000\\rangle$$"
      ],
      "text/plain": [
       "<IPython.core.display.Latex object>"
      ]
     },
     "metadata": {},
     "output_type": "display_data"
    },
    {
     "name": "stdout",
     "output_type": "stream",
     "text": [
      "Circuit:\n"
     ]
    },
    {
     "data": {
      "text/html": [
       "<pre style=\"word-wrap: normal;white-space: pre;background: #fff0;line-height: 1.1;font-family: &quot;Courier New&quot;,Courier,monospace\">     ┌───┐                                                  »\n",
       "q_3: ┤ H ├───────────────────────────────■─────■────────────»\n",
       "     ├───┤                             ┌─┴─┐ ┌─┴─┐          »\n",
       "q_2: ┤ H ├──────────────────────────■──┤ X ├─┤ X ├──■───────»\n",
       "     ├───┤┌─────────────────┐┌───┐┌─┴─┐└───┘ └───┘┌─┴─┐┌───┐»\n",
       "q_1: ┤ H ├┤ U(5π/2,5π/2,2π) ├┤ X ├┤ X ├───────────┤ X ├┤ X ├»\n",
       "     ├───┤└─────────────────┘└─┬─┘└───┘           └───┘└─┬─┘»\n",
       "q_0: ┤ H ├─────────────────────■─────────────────────────■──»\n",
       "     └───┘                                                  »\n",
       "«                            ┌───┐\n",
       "«q_3: ───────────────────────┤ H ├\n",
       "«                            ├───┤\n",
       "«q_2: ───────────────────────┤ H ├\n",
       "«     ┌────────────────────┐ ├───┤\n",
       "«q_1: ┤ U(-5π/2,-2π,-5π/2) ├─┤ H ├\n",
       "«     └────────────────────┘ ├───┤\n",
       "«q_0: ───────────────────────┤ H ├\n",
       "«                            └───┘</pre>"
      ],
      "text/plain": [
       "     ┌───┐                                                  »\n",
       "q_3: ┤ H ├───────────────────────────────■─────■────────────»\n",
       "     ├───┤                             ┌─┴─┐ ┌─┴─┐          »\n",
       "q_2: ┤ H ├──────────────────────────■──┤ X ├─┤ X ├──■───────»\n",
       "     ├───┤┌─────────────────┐┌───┐┌─┴─┐└───┘ └───┘┌─┴─┐┌───┐»\n",
       "q_1: ┤ H ├┤ U(5π/2,5π/2,2π) ├┤ X ├┤ X ├───────────┤ X ├┤ X ├»\n",
       "     ├───┤└─────────────────┘└─┬─┘└───┘           └───┘└─┬─┘»\n",
       "q_0: ┤ H ├─────────────────────■─────────────────────────■──»\n",
       "     └───┘                                                  »\n",
       "«                            ┌───┐\n",
       "«q_3: ───────────────────────┤ H ├\n",
       "«                            ├───┤\n",
       "«q_2: ───────────────────────┤ H ├\n",
       "«     ┌────────────────────┐ ├───┤\n",
       "«q_1: ┤ U(-5π/2,-2π,-5π/2) ├─┤ H ├\n",
       "«     └────────────────────┘ ├───┤\n",
       "«q_0: ───────────────────────┤ H ├\n",
       "«                            └───┘"
      ]
     },
     "metadata": {},
     "output_type": "display_data"
    },
    {
     "name": "stdout",
     "output_type": "stream",
     "text": [
      "Output matrix:\n"
     ]
    },
    {
     "data": {
      "text/latex": [
       "$$\n",
       "\n",
       "\\begin{bmatrix}\n",
       "1 & 0 & 0 & 0 & \\cdots & 0 & 0 & 0  \\\\\n",
       " 0 & 1 & 0 & 0 & \\cdots & 0 & 0 & 0  \\\\\n",
       " 0 & 0 & 1 & 0 & \\cdots & 0 & 0 & 0  \\\\\n",
       " 0 & 0 & 0 & 1 & \\cdots & 0 & 0 & 0  \\\\\n",
       " \\vdots & \\vdots & \\vdots & \\vdots & \\ddots & \\vdots & \\vdots & \\vdots \\\\\n",
       " 0 & 0 & 0 & 0 & \\cdots & 1 & 0 & 0  \\\\\n",
       " 0 & 0 & 0 & 0 & \\cdots & 0 & 1 & 0  \\\\\n",
       " 0 & 0 & 0 & 0 & \\cdots & 0 & 0 & 1  \\\\\n",
       " \\end{bmatrix}\n",
       "$$"
      ],
      "text/plain": [
       "<IPython.core.display.Latex object>"
      ]
     },
     "metadata": {},
     "output_type": "display_data"
    }
   ],
   "source": [
    "# Original circuit\n",
    "\n",
    "qc = QuantumCircuit(4)\n",
    "\n",
    "qc.h(3)\n",
    "qc.h(2)\n",
    "qc.h(1)\n",
    "qc.h(0)\n",
    "\n",
    "qc.u(np.pi*2.5,    np.pi*2.5,   np.pi*2,   1)\n",
    "\n",
    "qc.cx(0,1)\n",
    "qc.cx(2,1)\n",
    "qc.cx(3,2)\n",
    "\n",
    "qc.barrier()\n",
    "\n",
    "# Inversing the circuit\n",
    "\n",
    "qc.cx(3,2)\n",
    "qc.cx(2,1)\n",
    "qc.cx(0,1)\n",
    "\n",
    "qc.u(-1*np.pi*2.5, -1*np.pi*2, -1*np.pi*2.5, 1)\n",
    " \n",
    "qc.barrier()\n",
    "qc.h(3)\n",
    "qc.h(2)\n",
    "qc.h(1)\n",
    "qc.h(0)\n",
    "\n",
    "statevector = Statevector(qc)\n",
    "x_inverse = Operator(qc).to_matrix()\n",
    "\n",
    "print('Statevector:')\n",
    "display(statevector.draw('latex'))\n",
    "\n",
    "print('Circuit:')\n",
    "display(qc.draw(reverse_bits=True, plot_barriers=False))\n",
    "\n",
    "print('Output matrix:')\n",
    "display(array_to_latex(x_inverse))\n"
   ]
  },
  {
   "cell_type": "markdown",
   "metadata": {},
   "source": [
    "We flipped the order of the gates, and found that the U-gate had to be inversed. We looked at the conjugated and transformed version of the matrix concluding that $\\phi$ and $\\lambda$ had to be negative and change place. Due to the negativity of sin when flipping the matrix, $\\theta$ had to be negative. Having a negative $\\theta$ would not affect the value of cos.\n",
    "\n",
    "We also found that qiskit had a method for inversing a circuit, and we used this to doublecheck our result."
   ]
  },
  {
   "cell_type": "code",
   "execution_count": 70,
   "metadata": {},
   "outputs": [
    {
     "name": "stdout",
     "output_type": "stream",
     "text": [
      "Inversed circuit using qiskit's method:\n"
     ]
    },
    {
     "data": {
      "text/html": [
       "<pre style=\"word-wrap: normal;white-space: pre;background: #fff0;line-height: 1.1;font-family: &quot;Courier New&quot;,Courier,monospace\">          ┌───┐                                \n",
       "q_3: ──■──┤ H ├────────────────────────────────\n",
       "     ┌─┴─┐└───┘┌───┐                           \n",
       "q_2: ┤ X ├──■──┤ H ├───────────────────────────\n",
       "     └───┘┌─┴─┐├───┤┌────────────────────┐┌───┐\n",
       "q_1: ─────┤ X ├┤ X ├┤ U(-5π/2,-2π,-5π/2) ├┤ H ├\n",
       "          └───┘└─┬─┘└───────┬───┬────────┘└───┘\n",
       "q_0: ────────────■──────────┤ H ├──────────────\n",
       "                            └───┘              </pre>"
      ],
      "text/plain": [
       "          ┌───┐                                \n",
       "q_3: ──■──┤ H ├────────────────────────────────\n",
       "     ┌─┴─┐└───┘┌───┐                           \n",
       "q_2: ┤ X ├──■──┤ H ├───────────────────────────\n",
       "     └───┘┌─┴─┐├───┤┌────────────────────┐┌───┐\n",
       "q_1: ─────┤ X ├┤ X ├┤ U(-5π/2,-2π,-5π/2) ├┤ H ├\n",
       "          └───┘└─┬─┘└───────┬───┬────────┘└───┘\n",
       "q_0: ────────────■──────────┤ H ├──────────────\n",
       "                            └───┘              "
      ]
     },
     "execution_count": 70,
     "metadata": {},
     "output_type": "execute_result"
    }
   ],
   "source": [
    "qc = QuantumCircuit(4)\n",
    "\n",
    "qc.h(3)\n",
    "qc.h(2)\n",
    "qc.h(1)\n",
    "qc.h(0)\n",
    "\n",
    "qc.u(np.pi*2.5,    np.pi*2.5,   np.pi*2,   1)\n",
    "\n",
    "qc.cx(0,1)\n",
    "qc.cx(2,1)\n",
    "qc.cx(3,2)\n",
    "\n",
    "qx = qc.inverse()\n",
    "print(\"Inversed circuit using qiskit's method:\")\n",
    "qx.draw(reverse_bits=True)"
   ]
  },
  {
   "cell_type": "markdown",
   "metadata": {},
   "source": [
    "### 1.2 Quantum State Tomography\n",
    "\n",
    "1. Implementing circuit in Qiskit"
   ]
  },
  {
   "cell_type": "code",
   "execution_count": 76,
   "metadata": {},
   "outputs": [
    {
     "name": "stdout",
     "output_type": "stream",
     "text": [
      "Circuit:\n"
     ]
    },
    {
     "data": {
      "text/html": [
       "<pre style=\"word-wrap: normal;white-space: pre;background: #fff0;line-height: 1.1;font-family: &quot;Courier New&quot;,Courier,monospace\">   ┌───┐┌───┐┌─────┐┌───┐┌───┐┌─────────┐┌───┐\n",
       "q: ┤ X ├┤ H ├┤ Tdg ├┤ Z ├┤ Y ├┤ Rx(1.6) ├┤ S ├\n",
       "   └───┘└───┘└─────┘└───┘└───┘└─────────┘└───┘</pre>"
      ],
      "text/plain": [
       "   ┌───┐┌───┐┌─────┐┌───┐┌───┐┌─────────┐┌───┐\n",
       "q: ┤ X ├┤ H ├┤ Tdg ├┤ Z ├┤ Y ├┤ Rx(1.6) ├┤ S ├\n",
       "   └───┘└───┘└─────┘└───┘└───┘└─────────┘└───┘"
      ]
     },
     "metadata": {},
     "output_type": "display_data"
    }
   ],
   "source": [
    "qc = QuantumCircuit(1)\n",
    "qc.x(0)\n",
    "qc.h(0)\n",
    "qc.tdg(0)\n",
    "qc.z(0)\n",
    "qc.y(0)\n",
    "qc.rx(theta=1.6,qubit=0)\n",
    "qc.s(0)\n",
    "print('Circuit:')\n",
    "display(qc.draw(reverse_bits=True))"
   ]
  },
  {
   "cell_type": "markdown",
   "metadata": {},
   "source": [
    "2. Retrieve statevector"
   ]
  },
  {
   "cell_type": "code",
   "execution_count": 77,
   "metadata": {},
   "outputs": [
    {
     "name": "stdout",
     "output_type": "stream",
     "text": [
      "Statevector:\n"
     ]
    },
    {
     "data": {
      "text/latex": [
       "$$(0.1588940017 - 0.3483533547 i) |0\\rangle+(-0.8513240841 - 0.3586780454 i) |1\\rangle$$"
      ],
      "text/plain": [
       "<IPython.core.display.Latex object>"
      ]
     },
     "metadata": {},
     "output_type": "display_data"
    }
   ],
   "source": [
    "statevector = Statevector(qc)\n",
    "print('Statevector:')\n",
    "display(statevector.draw('latex'))"
   ]
  },
  {
   "cell_type": "markdown",
   "metadata": {},
   "source": [
    "3. Apply measurements"
   ]
  },
  {
   "cell_type": "code",
   "execution_count": 122,
   "metadata": {},
   "outputs": [
    {
     "name": "stdout",
     "output_type": "stream",
     "text": [
      "Circuit:\n"
     ]
    },
    {
     "data": {
      "text/html": [
       "<pre style=\"word-wrap: normal;white-space: pre;background: #fff0;line-height: 1.1;font-family: &quot;Courier New&quot;,Courier,monospace\">     ┌───┐┌───┐┌─────┐┌───┐┌───┐┌─────────┐┌───┐\n",
       "  q: ┤ X ├┤ H ├┤ Tdg ├┤ Z ├┤ Y ├┤ Rx(1.6) ├┤ S ├\n",
       "     └───┘└───┘└─────┘└───┘└───┘└─────────┘└───┘\n",
       "c: 1/═══════════════════════════════════════════\n",
       "                                                </pre>"
      ],
      "text/plain": [
       "     ┌───┐┌───┐┌─────┐┌───┐┌───┐┌─────────┐┌───┐\n",
       "  q: ┤ X ├┤ H ├┤ Tdg ├┤ Z ├┤ Y ├┤ Rx(1.6) ├┤ S ├\n",
       "     └───┘└───┘└─────┘└───┘└───┘└─────────┘└───┘\n",
       "c: 1/═══════════════════════════════════════════\n",
       "                                                "
      ]
     },
     "metadata": {},
     "output_type": "display_data"
    }
   ],
   "source": [
    "def create_circuit():\n",
    "    qc = QuantumCircuit(1,1)\n",
    "    qc.x(0)\n",
    "    qc.h(0)\n",
    "\n",
    "    qc.tdg(0)\n",
    "    qc.z(0)\n",
    "    qc.y(0)\n",
    "    qc.rx(theta=1.6,qubit=0)\n",
    "    qc.s(0)\n",
    "\n",
    "    return qc\n",
    "\n",
    "z_basis = create_circuit()\n",
    "print('Circuit:')\n",
    "display(z_basis.draw(reverse_bits=True))"
   ]
  },
  {
   "cell_type": "markdown",
   "metadata": {},
   "source": [
    "Z-basis (0,1)"
   ]
  },
  {
   "cell_type": "code",
   "execution_count": 121,
   "metadata": {},
   "outputs": [
    {
     "name": "stdout",
     "output_type": "stream",
     "text": [
      "Circuit:\n"
     ]
    },
    {
     "data": {
      "text/html": [
       "<pre style=\"word-wrap: normal;white-space: pre;background: #fff0;line-height: 1.1;font-family: &quot;Courier New&quot;,Courier,monospace\">     ┌───┐┌───┐┌─────┐┌───┐┌───┐┌─────────┐┌───┐┌─┐\n",
       "  q: ┤ X ├┤ H ├┤ Tdg ├┤ Z ├┤ Y ├┤ Rx(1.6) ├┤ S ├┤M├\n",
       "     └───┘└───┘└─────┘└───┘└───┘└─────────┘└───┘└╥┘\n",
       "c: 1/════════════════════════════════════════════╩═\n",
       "                                                 0 </pre>"
      ],
      "text/plain": [
       "     ┌───┐┌───┐┌─────┐┌───┐┌───┐┌─────────┐┌───┐┌─┐\n",
       "  q: ┤ X ├┤ H ├┤ Tdg ├┤ Z ├┤ Y ├┤ Rx(1.6) ├┤ S ├┤M├\n",
       "     └───┘└───┘└─────┘└───┘└───┘└─────────┘└───┘└╥┘\n",
       "c: 1/════════════════════════════════════════════╩═\n",
       "                                                 0 "
      ]
     },
     "metadata": {},
     "output_type": "display_data"
    }
   ],
   "source": [
    "z_basis = create_circuit() # z-basis is the standard basis\n",
    "z_basis.measure(0,0)\n",
    "print('Circuit:')\n",
    "display(z_basis.draw(reverse_bits=True))"
   ]
  },
  {
   "cell_type": "markdown",
   "metadata": {},
   "source": [
    "X-basis (+,-)"
   ]
  },
  {
   "cell_type": "code",
   "execution_count": null,
   "metadata": {},
   "outputs": [],
   "source": [
    "x_basis = create_circuit()\n",
    "x_basis.h() # turn from standard basis to x-basis\n",
    "x_basis.measure(0,0)\n",
    "print('Circuit:')\n",
    "display(x_basis.draw(reverse_bits=True))"
   ]
  },
  {
   "cell_type": "markdown",
   "metadata": {},
   "source": [
    "Y-basis (R,L)"
   ]
  },
  {
   "cell_type": "code",
   "execution_count": null,
   "metadata": {},
   "outputs": [],
   "source": [
    "y_basis = create_circuit()\n",
    "y_basis.s() # turn from standard basis to y-basis\n",
    "y_basis.measure(0,0)"
   ]
  },
  {
   "cell_type": "code",
   "execution_count": 96,
   "metadata": {},
   "outputs": [
    {
     "name": "stdout",
     "output_type": "stream",
     "text": [
      "Statevector:\n"
     ]
    },
    {
     "data": {
      "text/latex": [
       "$$(0.1588940017 - 0.3483533547 i) |0\\rangle+(-0.8513240841 - 0.3586780454 i) |1\\rangle$$"
      ],
      "text/plain": [
       "<IPython.core.display.Latex object>"
      ]
     },
     "metadata": {},
     "output_type": "display_data"
    }
   ],
   "source": [
    "print('Statevector:')\n",
    "display(statevector.draw('latex'))\n",
    "qc.\n",
    "res = measure(qc, shots=1000)"
   ]
  },
  {
   "cell_type": "code",
   "execution_count": 103,
   "metadata": {},
   "outputs": [
    {
     "name": "stdout",
     "output_type": "stream",
     "text": [
      "Statevector:\n"
     ]
    },
    {
     "data": {
      "text/latex": [
       "$$(0.1588940017 - 0.3483533547 i) |0\\rangle+(-0.8513240841 - 0.3586780454 i) |1\\rangle$$"
      ],
      "text/plain": [
       "<IPython.core.display.Latex object>"
      ]
     },
     "metadata": {},
     "output_type": "display_data"
    },
    {
     "name": "stdout",
     "output_type": "stream",
     "text": [
      "Output matrix:\n"
     ]
    },
    {
     "data": {
      "text/latex": [
       "$$\n",
       "\n",
       "\\begin{bmatrix}\n",
       "1 & 0 & 0 & 0 & \\cdots & 0 & 0 & 0  \\\\\n",
       " 0 & 1 & 0 & 0 & \\cdots & 0 & 0 & 0  \\\\\n",
       " 0 & 0 & 1 & 0 & \\cdots & 0 & 0 & 0  \\\\\n",
       " 0 & 0 & 0 & 1 & \\cdots & 0 & 0 & 0  \\\\\n",
       " \\vdots & \\vdots & \\vdots & \\vdots & \\ddots & \\vdots & \\vdots & \\vdots \\\\\n",
       " 0 & 0 & 0 & 0 & \\cdots & 1 & 0 & 0  \\\\\n",
       " 0 & 0 & 0 & 0 & \\cdots & 0 & 1 & 0  \\\\\n",
       " 0 & 0 & 0 & 0 & \\cdots & 0 & 0 & 1  \\\\\n",
       " \\end{bmatrix}\n",
       "$$"
      ],
      "text/plain": [
       "<IPython.core.display.Latex object>"
      ]
     },
     "metadata": {},
     "output_type": "display_data"
    },
    {
     "name": "stdout",
     "output_type": "stream",
     "text": [
      "Result: {'0': 131, '1': 869}\n"
     ]
    },
    {
     "data": {
      "text/html": [
       "<pre style=\"word-wrap: normal;white-space: pre;background: #fff0;line-height: 1.1;font-family: &quot;Courier New&quot;,Courier,monospace\">        ┌───┐┌───┐┌─────┐┌───┐┌───┐┌─────────┐┌───┐ ░ ┌─┐\n",
       "     q: ┤ X ├┤ H ├┤ Tdg ├┤ Z ├┤ Y ├┤ Rx(1.6) ├┤ S ├─░─┤M├\n",
       "        └───┘└───┘└─────┘└───┘└───┘└─────────┘└───┘ ░ └╥┘\n",
       "meas: 1/═══════════════════════════════════════════════╩═\n",
       "                                                       0 </pre>"
      ],
      "text/plain": [
       "        ┌───┐┌───┐┌─────┐┌───┐┌───┐┌─────────┐┌───┐ ░ ┌─┐\n",
       "     q: ┤ X ├┤ H ├┤ Tdg ├┤ Z ├┤ Y ├┤ Rx(1.6) ├┤ S ├─░─┤M├\n",
       "        └───┘└───┘└─────┘└───┘└───┘└─────────┘└───┘ ░ └╥┘\n",
       "meas: 1/═══════════════════════════════════════════════╩═\n",
       "                                                       0 "
      ]
     },
     "metadata": {},
     "output_type": "display_data"
    }
   ],
   "source": [
    "print('Statevector:')\n",
    "display(statevector.draw('latex'))\n",
    "\n",
    "print('Output matrix:')\n",
    "display(array_to_latex(x_inverse))\n",
    "\n",
    "print('Result:',res)\n",
    "display(qc.draw(reverse_bits=True))\n",
    "plot_histogram(res)\n",
    "i=1j\n"
   ]
  },
  {
   "cell_type": "markdown",
   "metadata": {},
   "source": [
    "4. Reconstruct state from measurments"
   ]
  }
 ],
 "metadata": {
  "kernelspec": {
   "display_name": "INF367venv",
   "language": "python",
   "name": "python3"
  },
  "language_info": {
   "codemirror_mode": {
    "name": "ipython",
    "version": 3
   },
   "file_extension": ".py",
   "mimetype": "text/x-python",
   "name": "python",
   "nbconvert_exporter": "python",
   "pygments_lexer": "ipython3",
   "version": "3.9.6"
  }
 },
 "nbformat": 4,
 "nbformat_minor": 2
}
