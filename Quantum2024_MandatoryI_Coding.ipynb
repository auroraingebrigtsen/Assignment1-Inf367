{
 "cells": [
  {
   "cell_type": "markdown",
   "metadata": {},
   "source": [
    "# Assignment 1 - INF367"
   ]
  },
  {
   "cell_type": "code",
   "execution_count": 1,
   "metadata": {},
   "outputs": [],
   "source": [
    "from qiskit import QuantumCircuit, transpile\n",
    "from qiskit_aer import AerSimulator, QasmSimulator\n",
    "from qiskit.visualization import array_to_latex, plot_histogram\n",
    "import numpy as np\n",
    "import qiskit.quantum_info as qi\n",
    "from qiskit.quantum_info import Statevector, Operator\n",
    "\n",
    "\n",
    "# To be used for measurments\n",
    "\n",
    "backend = QasmSimulator()\n",
    "def measure(qc: QuantumCircuit, shots=1000):\n",
    "    qc.measure_all()\n",
    "    transpiled_qc = transpile(qc, backend)\n",
    "    job = backend.run(transpiled_qc, shots=shots)\n",
    "    result = job.result()\n",
    "    return result.get_counts()"
   ]
  },
  {
   "cell_type": "markdown",
   "metadata": {},
   "source": [
    "### 1.1 Playing with Quantum Circuits\n",
    "\n",
    "1. Implement circuit to produce  |ψ⟩ = 1√2 ( |RRLL⟩ − |LLRR⟩ )"
   ]
  },
  {
   "cell_type": "code",
   "execution_count": null,
   "metadata": {},
   "outputs": [],
   "source": [
    "qc = QuantumCircuit(4)\n",
    "\n",
    "qc.h(3)\n",
    "qc.h(2)\n",
    "qc.h(1)\n",
    "qc.h(0)\n",
    "\n",
    "qc.u(np.pi*2.5, np.pi*2.5, np.pi*2,1)\n",
    "\n",
    "qc.cx(0,1)\n",
    "qc.cx(2,1)\n",
    "qc.cx(3,2)\n",
    "\n",
    "statevector = Statevector(qc)\n",
    "x = Operator(qc).to_matrix()\n",
    "\n",
    "display(statevector.draw('latex'))\n",
    "display(qc.draw(reverse_bits=True))\n",
    "display(array_to_latex(x))\n"
   ]
  },
  {
   "cell_type": "markdown",
   "metadata": {},
   "source": [
    "2. Full standard measurment"
   ]
  },
  {
   "cell_type": "code",
   "execution_count": 3,
   "metadata": {},
   "outputs": [],
   "source": [
    "res = measure(qc, shots=1000)\n"
   ]
  },
  {
   "cell_type": "code",
   "execution_count": null,
   "metadata": {},
   "outputs": [],
   "source": [
    "print('Circuit:')\n",
    "display(qc.draw(reverse_bits=True))\n",
    "\n",
    "print('Result:',res,end='\\n\\n')\n",
    "\n",
    "print('Histogram:')\n",
    "plot_histogram(res)"
   ]
  },
  {
   "cell_type": "markdown",
   "metadata": {},
   "source": [
    "3. Inverese circuit"
   ]
  },
  {
   "cell_type": "code",
   "execution_count": null,
   "metadata": {},
   "outputs": [],
   "source": [
    "# Original circuit\n",
    "\n",
    "qc = QuantumCircuit(4)\n",
    "\n",
    "qc.h(3)\n",
    "qc.h(2)\n",
    "qc.h(1)\n",
    "qc.h(0)\n",
    "\n",
    "qc.u(np.pi*2.5,    np.pi*2.5,   np.pi*2,   1)\n",
    "\n",
    "qc.cx(0,1)\n",
    "qc.cx(2,1)\n",
    "qc.cx(3,2)\n",
    "\n",
    "qc.barrier()\n",
    "\n",
    "# Inversing the circuit\n",
    "\n",
    "qc.cx(3,2)\n",
    "qc.cx(2,1)\n",
    "qc.cx(0,1)\n",
    "\n",
    "qc.u(-1*np.pi*2.5, -1*np.pi*2, -1*np.pi*2.5, 1)\n",
    " \n",
    "qc.barrier()\n",
    "qc.h(3)\n",
    "qc.h(2)\n",
    "qc.h(1)\n",
    "qc.h(0)\n",
    "\n",
    "statevector = Statevector(qc)\n",
    "x_inverse = Operator(qc).to_matrix()\n",
    "\n",
    "print('Statevector:')\n",
    "display(statevector.draw('latex'))\n",
    "\n",
    "print('Circuit:')\n",
    "display(qc.draw(reverse_bits=True, plot_barriers=False))\n",
    "\n",
    "print('Output matrix:')\n",
    "display(array_to_latex(x_inverse))\n"
   ]
  },
  {
   "cell_type": "markdown",
   "metadata": {},
   "source": [
    "We flipped the order of the gates, and found that the U-gate had to be inversed. We looked at the conjugated and transformed version of the matrix concluding that $\\phi$ and $\\lambda$ had to be negative and change place. Due to the negativity of sin when flipping the matrix, $\\theta$ had to be negative. Having a negative $\\theta$ would not affect the value of cos.\n",
    "\n",
    "We also found that qiskit had a method for inversing a circuit, and we used this to doublecheck our result."
   ]
  },
  {
   "cell_type": "code",
   "execution_count": null,
   "metadata": {},
   "outputs": [],
   "source": [
    "qc = QuantumCircuit(4)\n",
    "\n",
    "qc.h(3)\n",
    "qc.h(2)\n",
    "qc.h(1)\n",
    "qc.h(0)\n",
    "\n",
    "qc.u(np.pi*2.5,    np.pi*2.5,   np.pi*2,   1)\n",
    "\n",
    "qc.cx(0,1)\n",
    "qc.cx(2,1)\n",
    "qc.cx(3,2)\n",
    "\n",
    "qx = qc.inverse()\n",
    "print(\"Inversed circuit using qiskit's method:\")\n",
    "qx.draw(reverse_bits=True)"
   ]
  },
  {
   "cell_type": "markdown",
   "metadata": {},
   "source": [
    "### 1.2 Quantum State Tomography\n",
    "\n",
    "1. Implementing circuit in Qiskit"
   ]
  },
  {
   "cell_type": "code",
   "execution_count": null,
   "metadata": {},
   "outputs": [],
   "source": [
    "qc = QuantumCircuit(1)\n",
    "qc.x(0)\n",
    "qc.h(0)\n",
    "qc.tdg(0)\n",
    "qc.z(0)\n",
    "qc.y(0)\n",
    "qc.rx(theta=1.6,qubit=0)\n",
    "qc.s(0)\n",
    "print('Circuit:')\n",
    "display(qc.draw(reverse_bits=True))"
   ]
  },
  {
   "cell_type": "markdown",
   "metadata": {},
   "source": [
    "2. Retrieve statevector"
   ]
  },
  {
   "cell_type": "code",
   "execution_count": null,
   "metadata": {},
   "outputs": [],
   "source": [
    "statevector = Statevector(qc)\n",
    "print('Statevector:')\n",
    "display(statevector.draw('latex'))"
   ]
  },
  {
   "cell_type": "markdown",
   "metadata": {},
   "source": [
    "3. Apply measurements"
   ]
  },
  {
   "cell_type": "code",
   "execution_count": 9,
   "metadata": {},
   "outputs": [],
   "source": [
    "# Created function as we will use the same circuit many times\n",
    "\n",
    "def create_circuit():\n",
    "    qc = QuantumCircuit(1,1)\n",
    "    qc.x(0)\n",
    "    qc.h(0)\n",
    "\n",
    "    qc.tdg(0)\n",
    "    qc.z(0)\n",
    "    qc.y(0)\n",
    "    qc.rx(theta=1.6,qubit=0)\n",
    "    qc.s(0)\n",
    "\n",
    "    return qc"
   ]
  },
  {
   "cell_type": "markdown",
   "metadata": {},
   "source": [
    "Z-basis (0,1)"
   ]
  },
  {
   "cell_type": "code",
   "execution_count": null,
   "metadata": {},
   "outputs": [],
   "source": [
    "z_basis = create_circuit() # z-basis is the standard basis\n",
    "z_basis.measure(0,0)\n",
    "print('Circuit:')\n",
    "display(z_basis.draw(reverse_bits=True))\n",
    "\n",
    "statevector = Statevector(qc)\n",
    "print('Statevector:')\n",
    "display(statevector.draw('latex'))"
   ]
  },
  {
   "cell_type": "markdown",
   "metadata": {},
   "source": [
    "X-basis (+,-)"
   ]
  },
  {
   "cell_type": "code",
   "execution_count": null,
   "metadata": {},
   "outputs": [],
   "source": [
    "z_basis = create_circuit() # z-basis is the standard basis\n",
    "\n",
    "print('Statevector:')\n",
    "statevector = Statevector(z_basis)\n",
    "display(statevector.draw('latex'))\n",
    "\n",
    "print('Output matrix:')\n",
    "matrix = Operator(z_basis).to_matrix()\n",
    "display(array_to_latex(matrix))\n",
    "\n",
    "z_basis.measure(0,0)\n",
    "print('Circuit:')\n",
    "display(z_basis.draw(reverse_bits=True))\n",
    "\n",
    "backend = AerSimulator()\n",
    "job = backend.run(z_basis, shots=1000)\n",
    "plot_histogram(job.result().get_counts())"
   ]
  },
  {
   "cell_type": "markdown",
   "metadata": {},
   "source": [
    "Measuring in the X-basis (+,-)"
   ]
  },
  {
   "cell_type": "code",
   "execution_count": null,
   "metadata": {},
   "outputs": [],
   "source": [
    "x_basis = create_circuit() \n",
    "\n",
    "print('Statevector:')\n",
    "statevector = Statevector(x_basis)\n",
    "display(statevector.draw('latex'))\n",
    "\n",
    "x_basis.h(0) # change from standard basis to x-basis\n",
    "x_basis.measure(0,0)\n",
    "print('Circuit:')\n",
    "display(x_basis.draw(reverse_bits=True))\n",
    "\n",
    "backend = AerSimulator()\n",
    "job = backend.run(x_basis, shots=1000)\n",
    "plot_histogram(job.result().get_counts())"
   ]
  },
  {
   "cell_type": "markdown",
   "metadata": {},
   "source": [
    "Measuring in the Y-basis (R,L)"
   ]
  },
  {
   "cell_type": "code",
   "execution_count": null,
   "metadata": {},
   "outputs": [],
   "source": [
    "y_basis = create_circuit()\n",
    "\n",
    "print('Statevector:')\n",
    "statevector = Statevector(y_basis)\n",
    "display(statevector.draw('latex'))\n",
    "\n",
    "y_basis.s(0) # # change from standard basis to y-basis\n",
    "y_basis.measure(0,0)\n",
    "print('Circuit:')\n",
    "display(y_basis.draw(reverse_bits=True))\n",
    "\n",
    "backend = AerSimulator()\n",
    "job = backend.run(y_basis, shots=1000)\n",
    "plot_histogram(job.result().get_counts())"
   ]
  },
  {
   "cell_type": "markdown",
   "metadata": {},
   "source": [
    "4. Reconstruct state from measurments"
   ]
  }
 ],
 "metadata": {
  "kernelspec": {
   "display_name": "INF367venv",
   "language": "python",
   "name": "python3"
  },
  "language_info": {
   "codemirror_mode": {
    "name": "ipython",
    "version": 3
   },
   "file_extension": ".py",
   "mimetype": "text/x-python",
   "name": "python",
   "nbconvert_exporter": "python",
   "pygments_lexer": "ipython3",
   "version": "3.9.6"
  }
 },
 "nbformat": 4,
 "nbformat_minor": 2
}
