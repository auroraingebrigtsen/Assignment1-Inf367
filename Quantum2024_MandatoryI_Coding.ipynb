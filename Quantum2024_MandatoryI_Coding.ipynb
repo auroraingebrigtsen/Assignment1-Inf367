{
 "cells": [
  {
   "cell_type": "markdown",
   "metadata": {},
   "source": [
    "# Assignment 1 - INF367"
   ]
  },
  {
   "cell_type": "code",
   "execution_count": 17,
   "metadata": {},
   "outputs": [],
   "source": [
    "from qiskit import QuantumCircuit, transpile\n",
    "from qiskit_aer import AerSimulator, QasmSimulator\n",
    "from qiskit.visualization import array_to_latex, plot_histogram\n",
    "import numpy as np\n",
    "import qiskit.quantum_info as qi\n",
    "from qiskit.quantum_info import Statevector, Operator\n",
    "import math\n",
    "\n",
    "\n",
    "# To be used for measurments\n",
    "\n",
    "backend = QasmSimulator()\n",
    "def measure(qc: QuantumCircuit, shots=1000):\n",
    "    qc.measure_all()\n",
    "    transpiled_qc = transpile(qc, backend)\n",
    "    job = backend.run(transpiled_qc, shots=shots)\n",
    "    result = job.result()\n",
    "    return result.get_counts()"
   ]
  },
  {
   "cell_type": "markdown",
   "metadata": {},
   "source": [
    "### 1.1 Playing with Quantum Circuits\n",
    "\n",
    "1. Implement circuit to produce  |ψ⟩ = 1√2 ( |RRLL⟩ − |LLRR⟩ )"
   ]
  },
  {
   "cell_type": "code",
   "execution_count": 2,
   "metadata": {},
   "outputs": [
    {
     "data": {
      "text/latex": [
       "$$- \\frac{\\sqrt{2} i}{4} |0001\\rangle- \\frac{\\sqrt{2} i}{4} |0010\\rangle- \\frac{\\sqrt{2} i}{4} |0100\\rangle- \\frac{\\sqrt{2} i}{4} |0111\\rangle- \\frac{\\sqrt{2} i}{4} |1000\\rangle- \\frac{\\sqrt{2} i}{4} |1011\\rangle- \\frac{\\sqrt{2} i}{4} |1101\\rangle- \\frac{\\sqrt{2} i}{4} |1110\\rangle$$"
      ],
      "text/plain": [
       "<IPython.core.display.Latex object>"
      ]
     },
     "metadata": {},
     "output_type": "display_data"
    },
    {
     "data": {
      "text/html": [
       "<pre style=\"word-wrap: normal;white-space: pre;background: #fff0;line-height: 1.1;font-family: &quot;Courier New&quot;,Courier,monospace\">     ┌───┐                                  \n",
       "q_3: ┤ H ├───────────────────────────────■──\n",
       "     ├───┤                             ┌─┴─┐\n",
       "q_2: ┤ H ├──────────────────────────■──┤ X ├\n",
       "     ├───┤┌─────────────────┐┌───┐┌─┴─┐└───┘\n",
       "q_1: ┤ H ├┤ U(5π/2,5π/2,2π) ├┤ X ├┤ X ├─────\n",
       "     ├───┤└─────────────────┘└─┬─┘└───┘     \n",
       "q_0: ┤ H ├─────────────────────■────────────\n",
       "     └───┘                                  </pre>"
      ],
      "text/plain": [
       "     ┌───┐                                  \n",
       "q_3: ┤ H ├───────────────────────────────■──\n",
       "     ├───┤                             ┌─┴─┐\n",
       "q_2: ┤ H ├──────────────────────────■──┤ X ├\n",
       "     ├───┤┌─────────────────┐┌───┐┌─┴─┐└───┘\n",
       "q_1: ┤ H ├┤ U(5π/2,5π/2,2π) ├┤ X ├┤ X ├─────\n",
       "     ├───┤└─────────────────┘└─┬─┘└───┘     \n",
       "q_0: ┤ H ├─────────────────────■────────────\n",
       "     └───┘                                  "
      ]
     },
     "metadata": {},
     "output_type": "display_data"
    },
    {
     "data": {
      "text/latex": [
       "$$\n",
       "\n",
       "\\begin{bmatrix}\n",
       "0 & 0 & - \\frac{\\sqrt{2}}{4} & - \\frac{\\sqrt{2}}{4} & \\cdots & 0 & - \\frac{\\sqrt{2}}{4} & - \\frac{\\sqrt{2}}{4}  \\\\\n",
       " - \\frac{\\sqrt{2} i}{4} & \\frac{\\sqrt{2} i}{4} & 0 & 0 & \\cdots & \\frac{\\sqrt{2} i}{4} & 0 & 0  \\\\\n",
       " - \\frac{\\sqrt{2} i}{4} & - \\frac{\\sqrt{2} i}{4} & 0 & 0 & \\cdots & - \\frac{\\sqrt{2} i}{4} & 0 & 0  \\\\\n",
       " 0 & 0 & - \\frac{\\sqrt{2}}{4} & \\frac{\\sqrt{2}}{4} & \\cdots & 0 & - \\frac{\\sqrt{2}}{4} & \\frac{\\sqrt{2}}{4}  \\\\\n",
       " \\vdots & \\vdots & \\vdots & \\vdots & \\ddots & \\vdots & \\vdots & \\vdots \\\\\n",
       " - \\frac{\\sqrt{2} i}{4} & \\frac{\\sqrt{2} i}{4} & 0 & 0 & \\cdots & - \\frac{\\sqrt{2} i}{4} & 0 & 0  \\\\\n",
       " - \\frac{\\sqrt{2} i}{4} & - \\frac{\\sqrt{2} i}{4} & 0 & 0 & \\cdots & \\frac{\\sqrt{2} i}{4} & 0 & 0  \\\\\n",
       " 0 & 0 & - \\frac{\\sqrt{2}}{4} & \\frac{\\sqrt{2}}{4} & \\cdots & 0 & \\frac{\\sqrt{2}}{4} & - \\frac{\\sqrt{2}}{4}  \\\\\n",
       " \\end{bmatrix}\n",
       "$$"
      ],
      "text/plain": [
       "<IPython.core.display.Latex object>"
      ]
     },
     "metadata": {},
     "output_type": "display_data"
    }
   ],
   "source": [
    "qc = QuantumCircuit(4)\n",
    "\n",
    "qc.h(3)\n",
    "qc.h(2)\n",
    "qc.h(1)\n",
    "qc.h(0)\n",
    "\n",
    "qc.u(np.pi*2.5, np.pi*2.5, np.pi*2,1)\n",
    "\n",
    "qc.cx(0,1)\n",
    "qc.cx(2,1)\n",
    "qc.cx(3,2)\n",
    "\n",
    "statevector = Statevector(qc)\n",
    "x = Operator(qc).to_matrix()\n",
    "\n",
    "display(statevector.draw('latex'))\n",
    "display(qc.draw(reverse_bits=True))\n",
    "display(array_to_latex(x))\n"
   ]
  },
  {
   "cell_type": "markdown",
   "metadata": {},
   "source": [
    "2. Full standard measurment"
   ]
  },
  {
   "cell_type": "code",
   "execution_count": 3,
   "metadata": {},
   "outputs": [],
   "source": [
    "res = measure(qc, shots=1000)\n"
   ]
  },
  {
   "cell_type": "code",
   "execution_count": 4,
   "metadata": {},
   "outputs": [
    {
     "name": "stdout",
     "output_type": "stream",
     "text": [
      "Circuit:\n"
     ]
    },
    {
     "data": {
      "text/html": [
       "<pre style=\"word-wrap: normal;white-space: pre;background: #fff0;line-height: 1.1;font-family: &quot;Courier New&quot;,Courier,monospace\">        ┌───┐                                   ░          ┌─┐\n",
       "   q_3: ┤ H ├───────────────────────────────■───░──────────┤M├\n",
       "        ├───┤                             ┌─┴─┐ ░       ┌─┐└╥┘\n",
       "   q_2: ┤ H ├──────────────────────────■──┤ X ├─░───────┤M├─╫─\n",
       "        ├───┤┌─────────────────┐┌───┐┌─┴─┐└───┘ ░    ┌─┐└╥┘ ║ \n",
       "   q_1: ┤ H ├┤ U(5π/2,5π/2,2π) ├┤ X ├┤ X ├──────░────┤M├─╫──╫─\n",
       "        ├───┤└─────────────────┘└─┬─┘└───┘      ░ ┌─┐└╥┘ ║  ║ \n",
       "   q_0: ┤ H ├─────────────────────■─────────────░─┤M├─╫──╫──╫─\n",
       "        └───┘                                   ░ └╥┘ ║  ║  ║ \n",
       "meas: 4/═══════════════════════════════════════════╩══╩══╩══╩═\n",
       "                                                   0  1  2  3 </pre>"
      ],
      "text/plain": [
       "        ┌───┐                                   ░          ┌─┐\n",
       "   q_3: ┤ H ├───────────────────────────────■───░──────────┤M├\n",
       "        ├───┤                             ┌─┴─┐ ░       ┌─┐└╥┘\n",
       "   q_2: ┤ H ├──────────────────────────■──┤ X ├─░───────┤M├─╫─\n",
       "        ├───┤┌─────────────────┐┌───┐┌─┴─┐└───┘ ░    ┌─┐└╥┘ ║ \n",
       "   q_1: ┤ H ├┤ U(5π/2,5π/2,2π) ├┤ X ├┤ X ├──────░────┤M├─╫──╫─\n",
       "        ├───┤└─────────────────┘└─┬─┘└───┘      ░ ┌─┐└╥┘ ║  ║ \n",
       "   q_0: ┤ H ├─────────────────────■─────────────░─┤M├─╫──╫──╫─\n",
       "        └───┘                                   ░ └╥┘ ║  ║  ║ \n",
       "meas: 4/═══════════════════════════════════════════╩══╩══╩══╩═\n",
       "                                                   0  1  2  3 "
      ]
     },
     "metadata": {},
     "output_type": "display_data"
    },
    {
     "name": "stdout",
     "output_type": "stream",
     "text": [
      "Result: {'0010': 118, '1011': 143, '0100': 111, '1101': 135, '0111': 111, '0001': 121, '1110': 127, '1000': 134}\n",
      "\n",
      "Histogram:\n"
     ]
    },
    {
     "data": {
      "image/png": "[encoded data removed]",
      "text/plain": [
       "<Figure size 640x480 with 1 Axes>"
      ]
     },
     "execution_count": 4,
     "metadata": {},
     "output_type": "execute_result"
    }
   ],
   "source": [
    "print('Circuit:')\n",
    "display(qc.draw(reverse_bits=True))\n",
    "\n",
    "print('Result:',res,end='\\n\\n')\n",
    "\n",
    "print('Histogram:')\n",
    "plot_histogram(res)"
   ]
  },
  {
   "cell_type": "markdown",
   "metadata": {},
   "source": [
    "3. Inverese circuit"
   ]
  },
  {
   "cell_type": "code",
   "execution_count": 5,
   "metadata": {},
   "outputs": [
    {
     "name": "stdout",
     "output_type": "stream",
     "text": [
      "Statevector:\n"
     ]
    },
    {
     "data": {
      "text/latex": [
       "$$ |0000\\rangle$$"
      ],
      "text/plain": [
       "<IPython.core.display.Latex object>"
      ]
     },
     "metadata": {},
     "output_type": "display_data"
    },
    {
     "name": "stdout",
     "output_type": "stream",
     "text": [
      "Circuit:\n"
     ]
    },
    {
     "data": {
      "text/html": [
       "<pre style=\"word-wrap: normal;white-space: pre;background: #fff0;line-height: 1.1;font-family: &quot;Courier New&quot;,Courier,monospace\">     ┌───┐                                                  »\n",
       "q_3: ┤ H ├───────────────────────────────■─────■────────────»\n",
       "     ├───┤                             ┌─┴─┐ ┌─┴─┐          »\n",
       "q_2: ┤ H ├──────────────────────────■──┤ X ├─┤ X ├──■───────»\n",
       "     ├───┤┌─────────────────┐┌───┐┌─┴─┐└───┘ └───┘┌─┴─┐┌───┐»\n",
       "q_1: ┤ H ├┤ U(5π/2,5π/2,2π) ├┤ X ├┤ X ├───────────┤ X ├┤ X ├»\n",
       "     ├───┤└─────────────────┘└─┬─┘└───┘           └───┘└─┬─┘»\n",
       "q_0: ┤ H ├─────────────────────■─────────────────────────■──»\n",
       "     └───┘                                                  »\n",
       "«                            ┌───┐\n",
       "«q_3: ───────────────────────┤ H ├\n",
       "«                            ├───┤\n",
       "«q_2: ───────────────────────┤ H ├\n",
       "«     ┌────────────────────┐ ├───┤\n",
       "«q_1: ┤ U(-5π/2,-2π,-5π/2) ├─┤ H ├\n",
       "«     └────────────────────┘ ├───┤\n",
       "«q_0: ───────────────────────┤ H ├\n",
       "«                            └───┘</pre>"
      ],
      "text/plain": [
       "     ┌───┐                                                  »\n",
       "q_3: ┤ H ├───────────────────────────────■─────■────────────»\n",
       "     ├───┤                             ┌─┴─┐ ┌─┴─┐          »\n",
       "q_2: ┤ H ├──────────────────────────■──┤ X ├─┤ X ├──■───────»\n",
       "     ├───┤┌─────────────────┐┌───┐┌─┴─┐└───┘ └───┘┌─┴─┐┌───┐»\n",
       "q_1: ┤ H ├┤ U(5π/2,5π/2,2π) ├┤ X ├┤ X ├───────────┤ X ├┤ X ├»\n",
       "     ├───┤└─────────────────┘└─┬─┘└───┘           └───┘└─┬─┘»\n",
       "q_0: ┤ H ├─────────────────────■─────────────────────────■──»\n",
       "     └───┘                                                  »\n",
       "«                            ┌───┐\n",
       "«q_3: ───────────────────────┤ H ├\n",
       "«                            ├───┤\n",
       "«q_2: ───────────────────────┤ H ├\n",
       "«     ┌────────────────────┐ ├───┤\n",
       "«q_1: ┤ U(-5π/2,-2π,-5π/2) ├─┤ H ├\n",
       "«     └────────────────────┘ ├───┤\n",
       "«q_0: ───────────────────────┤ H ├\n",
       "«                            └───┘"
      ]
     },
     "metadata": {},
     "output_type": "display_data"
    },
    {
     "name": "stdout",
     "output_type": "stream",
     "text": [
      "Output matrix:\n"
     ]
    },
    {
     "data": {
      "text/latex": [
       "$$\n",
       "\n",
       "\\begin{bmatrix}\n",
       "1 & 0 & 0 & 0 & \\cdots & 0 & 0 & 0  \\\\\n",
       " 0 & 1 & 0 & 0 & \\cdots & 0 & 0 & 0  \\\\\n",
       " 0 & 0 & 1 & 0 & \\cdots & 0 & 0 & 0  \\\\\n",
       " 0 & 0 & 0 & 1 & \\cdots & 0 & 0 & 0  \\\\\n",
       " \\vdots & \\vdots & \\vdots & \\vdots & \\ddots & \\vdots & \\vdots & \\vdots \\\\\n",
       " 0 & 0 & 0 & 0 & \\cdots & 1 & 0 & 0  \\\\\n",
       " 0 & 0 & 0 & 0 & \\cdots & 0 & 1 & 0  \\\\\n",
       " 0 & 0 & 0 & 0 & \\cdots & 0 & 0 & 1  \\\\\n",
       " \\end{bmatrix}\n",
       "$$"
      ],
      "text/plain": [
       "<IPython.core.display.Latex object>"
      ]
     },
     "metadata": {},
     "output_type": "display_data"
    }
   ],
   "source": [
    "# Original circuit\n",
    "\n",
    "qc = QuantumCircuit(4)\n",
    "\n",
    "qc.h(3)\n",
    "qc.h(2)\n",
    "qc.h(1)\n",
    "qc.h(0)\n",
    "\n",
    "qc.u(np.pi*2.5,    np.pi*2.5,   np.pi*2,   1)\n",
    "\n",
    "qc.cx(0,1)\n",
    "qc.cx(2,1)\n",
    "qc.cx(3,2)\n",
    "\n",
    "qc.barrier()\n",
    "\n",
    "# Inversing the circuit\n",
    "\n",
    "qc.cx(3,2)\n",
    "qc.cx(2,1)\n",
    "qc.cx(0,1)\n",
    "\n",
    "qc.u(-1*np.pi*2.5, -1*np.pi*2, -1*np.pi*2.5, 1)\n",
    " \n",
    "qc.barrier()\n",
    "qc.h(3)\n",
    "qc.h(2)\n",
    "qc.h(1)\n",
    "qc.h(0)\n",
    "\n",
    "statevector = Statevector(qc)\n",
    "x_inverse = Operator(qc).to_matrix()\n",
    "\n",
    "print('Statevector:')\n",
    "display(statevector.draw('latex'))\n",
    "\n",
    "print('Circuit:')\n",
    "display(qc.draw(reverse_bits=True, plot_barriers=False))\n",
    "\n",
    "print('Output matrix:')\n",
    "display(array_to_latex(x_inverse))\n"
   ]
  },
  {
   "cell_type": "markdown",
   "metadata": {},
   "source": [
    "We flipped the order of the gates, and found that the U-gate had to be inversed. We looked at the conjugated and transformed version of the matrix concluding that $\\phi$ and $\\lambda$ had to be negative and change place. Due to the negativity of sin when flipping the matrix, $\\theta$ had to be negative. Having a negative $\\theta$ would not affect the value of cos.\n",
    "\n",
    "We also found that qiskit had a method for inversing a circuit, and we used this to doublecheck our result."
   ]
  },
  {
   "cell_type": "code",
   "execution_count": 6,
   "metadata": {},
   "outputs": [
    {
     "name": "stdout",
     "output_type": "stream",
     "text": [
      "Inversed circuit using qiskit's method:\n"
     ]
    },
    {
     "data": {
      "text/html": [
       "<pre style=\"word-wrap: normal;white-space: pre;background: #fff0;line-height: 1.1;font-family: &quot;Courier New&quot;,Courier,monospace\">          ┌───┐                                \n",
       "q_3: ──■──┤ H ├────────────────────────────────\n",
       "     ┌─┴─┐└───┘┌───┐                           \n",
       "q_2: ┤ X ├──■──┤ H ├───────────────────────────\n",
       "     └───┘┌─┴─┐├───┤┌────────────────────┐┌───┐\n",
       "q_1: ─────┤ X ├┤ X ├┤ U(-5π/2,-2π,-5π/2) ├┤ H ├\n",
       "          └───┘└─┬─┘└───────┬───┬────────┘└───┘\n",
       "q_0: ────────────■──────────┤ H ├──────────────\n",
       "                            └───┘              </pre>"
      ],
      "text/plain": [
       "          ┌───┐                                \n",
       "q_3: ──■──┤ H ├────────────────────────────────\n",
       "     ┌─┴─┐└───┘┌───┐                           \n",
       "q_2: ┤ X ├──■──┤ H ├───────────────────────────\n",
       "     └───┘┌─┴─┐├───┤┌────────────────────┐┌───┐\n",
       "q_1: ─────┤ X ├┤ X ├┤ U(-5π/2,-2π,-5π/2) ├┤ H ├\n",
       "          └───┘└─┬─┘└───────┬───┬────────┘└───┘\n",
       "q_0: ────────────■──────────┤ H ├──────────────\n",
       "                            └───┘              "
      ]
     },
     "execution_count": 6,
     "metadata": {},
     "output_type": "execute_result"
    }
   ],
   "source": [
    "qc = QuantumCircuit(4)\n",
    "\n",
    "qc.h(3)\n",
    "qc.h(2)\n",
    "qc.h(1)\n",
    "qc.h(0)\n",
    "\n",
    "qc.u(np.pi*2.5,    np.pi*2.5,   np.pi*2,   1)\n",
    "\n",
    "qc.cx(0,1)\n",
    "qc.cx(2,1)\n",
    "qc.cx(3,2)\n",
    "\n",
    "qx = qc.inverse()\n",
    "print(\"Inversed circuit using qiskit's method:\")\n",
    "qx.draw(reverse_bits=True)"
   ]
  },
  {
   "cell_type": "markdown",
   "metadata": {},
   "source": [
    "### 1.2 Quantum State Tomography\n",
    "\n",
    "1. Implementing circuit in Qiskit"
   ]
  },
  {
   "cell_type": "code",
   "execution_count": 50,
   "metadata": {},
   "outputs": [
    {
     "name": "stdout",
     "output_type": "stream",
     "text": [
      "Circuit:\n"
     ]
    },
    {
     "data": {
      "text/html": [
       "<pre style=\"word-wrap: normal;white-space: pre;background: #fff0;line-height: 1.1;font-family: &quot;Courier New&quot;,Courier,monospace\">   ┌───┐┌───┐┌─────┐┌───┐┌───┐┌─────────┐┌───┐\n",
       "q: ┤ X ├┤ H ├┤ Tdg ├┤ Z ├┤ Y ├┤ Rx(1.6) ├┤ S ├\n",
       "   └───┘└───┘└─────┘└───┘└───┘└─────────┘└───┘</pre>"
      ],
      "text/plain": [
       "   ┌───┐┌───┐┌─────┐┌───┐┌───┐┌─────────┐┌───┐\n",
       "q: ┤ X ├┤ H ├┤ Tdg ├┤ Z ├┤ Y ├┤ Rx(1.6) ├┤ S ├\n",
       "   └───┘└───┘└─────┘└───┘└───┘└─────────┘└───┘"
      ]
     },
     "metadata": {},
     "output_type": "display_data"
    }
   ],
   "source": [
    "qc = QuantumCircuit(1)\n",
    "qc.x(0)\n",
    "qc.h(0)\n",
    "qc.tdg(0)\n",
    "qc.z(0)\n",
    "qc.y(0)\n",
    "qc.rx(theta=1.6,qubit=0)\n",
    "qc.s(0)\n",
    "print('Circuit:')\n",
    "display(qc.draw(reverse_bits=True))"
   ]
  },
  {
   "cell_type": "markdown",
   "metadata": {},
   "source": [
    "2. Retrieve statevector"
   ]
  },
  {
   "cell_type": "code",
   "execution_count": 53,
   "metadata": {},
   "outputs": [
    {
     "name": "stdout",
     "output_type": "stream",
     "text": [
      "Statevector:\n"
     ]
    },
    {
     "data": {
      "text/latex": [
       "$$(0.1588940017 - 0.3483533547 i) |0\\rangle+(-0.8513240841 - 0.3586780454 i) |1\\rangle$$"
      ],
      "text/plain": [
       "<IPython.core.display.Latex object>"
      ]
     },
     "metadata": {},
     "output_type": "display_data"
    }
   ],
   "source": [
    "statevector = Statevector(qc)\n",
    "print('Statevector:')\n",
    "display(statevector.draw('latex'))"
   ]
  },
  {
   "cell_type": "markdown",
   "metadata": {},
   "source": [
    "3. Apply measurements"
   ]
  },
  {
   "cell_type": "code",
   "execution_count": 9,
   "metadata": {},
   "outputs": [],
   "source": [
    "# Created function as we will use the same circuit many times\n",
    "\n",
    "def create_circuit():\n",
    "    qc = QuantumCircuit(1,1)\n",
    "    qc.x(0)\n",
    "    qc.h(0)\n",
    "\n",
    "    qc.tdg(0)\n",
    "    qc.z(0)\n",
    "    qc.y(0)\n",
    "    qc.rx(theta=1.6,qubit=0)\n",
    "    qc.s(0)\n",
    "\n",
    "    return qc"
   ]
  },
  {
   "cell_type": "markdown",
   "metadata": {},
   "source": [
    "Z-basis (0,1)"
   ]
  },
  {
   "cell_type": "code",
   "execution_count": 10,
   "metadata": {},
   "outputs": [
    {
     "name": "stdout",
     "output_type": "stream",
     "text": [
      "Circuit:\n"
     ]
    },
    {
     "data": {
      "text/html": [
       "<pre style=\"word-wrap: normal;white-space: pre;background: #fff0;line-height: 1.1;font-family: &quot;Courier New&quot;,Courier,monospace\">     ┌───┐┌───┐┌─────┐┌───┐┌───┐┌─────────┐┌───┐┌─┐\n",
       "  q: ┤ X ├┤ H ├┤ Tdg ├┤ Z ├┤ Y ├┤ Rx(1.6) ├┤ S ├┤M├\n",
       "     └───┘└───┘└─────┘└───┘└───┘└─────────┘└───┘└╥┘\n",
       "c: 1/════════════════════════════════════════════╩═\n",
       "                                                 0 </pre>"
      ],
      "text/plain": [
       "     ┌───┐┌───┐┌─────┐┌───┐┌───┐┌─────────┐┌───┐┌─┐\n",
       "  q: ┤ X ├┤ H ├┤ Tdg ├┤ Z ├┤ Y ├┤ Rx(1.6) ├┤ S ├┤M├\n",
       "     └───┘└───┘└─────┘└───┘└───┘└─────────┘└───┘└╥┘\n",
       "c: 1/════════════════════════════════════════════╩═\n",
       "                                                 0 "
      ]
     },
     "metadata": {},
     "output_type": "display_data"
    },
    {
     "name": "stdout",
     "output_type": "stream",
     "text": [
      "Statevector:\n"
     ]
    },
    {
     "data": {
      "text/latex": [
       "$$(0.1588940017 - 0.3483533547 i) |0\\rangle+(-0.8513240841 - 0.3586780454 i) |1\\rangle$$"
      ],
      "text/plain": [
       "<IPython.core.display.Latex object>"
      ]
     },
     "metadata": {},
     "output_type": "display_data"
    }
   ],
   "source": [
    "z_basis = create_circuit() # z-basis is the standard basis\n",
    "z_basis.measure(0,0)\n",
    "print('Circuit:')\n",
    "display(z_basis.draw(reverse_bits=True))\n",
    "\n",
    "statevector = Statevector(qc)\n",
    "print('Statevector:')\n",
    "display(statevector.draw('latex'))"
   ]
  },
  {
   "cell_type": "markdown",
   "metadata": {},
   "source": [
    "X-basis (+,-)"
   ]
  },
  {
   "cell_type": "code",
   "execution_count": 18,
   "metadata": {},
   "outputs": [
    {
     "name": "stdout",
     "output_type": "stream",
     "text": [
      "Statevector:\n"
     ]
    },
    {
     "data": {
      "text/latex": [
       "$$(0.1588940017 - 0.3483533547 i) |0\\rangle+(-0.8513240841 - 0.3586780454 i) |1\\rangle$$"
      ],
      "text/plain": [
       "<IPython.core.display.Latex object>"
      ]
     },
     "metadata": {},
     "output_type": "display_data"
    },
    {
     "name": "stdout",
     "output_type": "stream",
     "text": [
      "Output matrix:\n"
     ]
    },
    {
     "data": {
      "text/latex": [
       "$$\n",
       "\n",
       "\\begin{bmatrix}\n",
       "0.1588940017 - 0.3483533547 i & 0.8556007111 + 0.3483533547 i  \\\\\n",
       " -0.8513240841 - 0.3586780454 i & -0.1339679932 + 0.3586780454 i  \\\\\n",
       " \\end{bmatrix}\n",
       "$$"
      ],
      "text/plain": [
       "<IPython.core.display.Latex object>"
      ]
     },
     "metadata": {},
     "output_type": "display_data"
    },
    {
     "name": "stdout",
     "output_type": "stream",
     "text": [
      "Circuit:\n"
     ]
    },
    {
     "data": {
      "text/html": [
       "<pre style=\"word-wrap: normal;white-space: pre;background: #fff0;line-height: 1.1;font-family: &quot;Courier New&quot;,Courier,monospace\">     ┌───┐┌───┐┌─────┐┌───┐┌───┐┌─────────┐┌───┐┌─┐\n",
       "  q: ┤ X ├┤ H ├┤ Tdg ├┤ Z ├┤ Y ├┤ Rx(1.6) ├┤ S ├┤M├\n",
       "     └───┘└───┘└─────┘└───┘└───┘└─────────┘└───┘└╥┘\n",
       "c: 1/════════════════════════════════════════════╩═\n",
       "                                                 0 </pre>"
      ],
      "text/plain": [
       "     ┌───┐┌───┐┌─────┐┌───┐┌───┐┌─────────┐┌───┐┌─┐\n",
       "  q: ┤ X ├┤ H ├┤ Tdg ├┤ Z ├┤ Y ├┤ Rx(1.6) ├┤ S ├┤M├\n",
       "     └───┘└───┘└─────┘└───┘└───┘└─────────┘└───┘└╥┘\n",
       "c: 1/════════════════════════════════════════════╩═\n",
       "                                                 0 "
      ]
     },
     "metadata": {},
     "output_type": "display_data"
    },
    {
     "data": {
      "image/png": "[encoded data removed]",
      "text/plain": [
       "<Figure size 640x480 with 1 Axes>"
      ]
     },
     "execution_count": 18,
     "metadata": {},
     "output_type": "execute_result"
    }
   ],
   "source": [
    "z_basis = create_circuit() # z-basis is the standard basis\n",
    "\n",
    "print('Statevector:')\n",
    "statevector = Statevector(z_basis)\n",
    "display(statevector.draw('latex'))\n",
    "\n",
    "print('Output matrix:')\n",
    "matrix = Operator(z_basis).to_matrix()\n",
    "display(array_to_latex(matrix))\n",
    "\n",
    "z_basis.measure(0,0)\n",
    "print('Circuit:')\n",
    "display(z_basis.draw(reverse_bits=True))\n",
    "\n",
    "backend = AerSimulator()\n",
    "job = backend.run(z_basis, shots=1000)\n",
    "z_basis_results= job.result().get_counts()\n",
    "plot_histogram(job.result().get_counts())"
   ]
  },
  {
   "cell_type": "markdown",
   "metadata": {},
   "source": [
    "Measuring in the X-basis (+,-)"
   ]
  },
  {
   "cell_type": "code",
   "execution_count": 19,
   "metadata": {},
   "outputs": [
    {
     "name": "stdout",
     "output_type": "stream",
     "text": [
      "Statevector:\n"
     ]
    },
    {
     "data": {
      "text/latex": [
       "$$(0.1588940017 - 0.3483533547 i) |0\\rangle+(-0.8513240841 - 0.3586780454 i) |1\\rangle$$"
      ],
      "text/plain": [
       "<IPython.core.display.Latex object>"
      ]
     },
     "metadata": {},
     "output_type": "display_data"
    },
    {
     "name": "stdout",
     "output_type": "stream",
     "text": [
      "Circuit:\n"
     ]
    },
    {
     "data": {
      "text/html": [
       "<pre style=\"word-wrap: normal;white-space: pre;background: #fff0;line-height: 1.1;font-family: &quot;Courier New&quot;,Courier,monospace\">     ┌───┐┌───┐┌─────┐┌───┐┌───┐┌─────────┐┌───┐┌───┐┌─┐\n",
       "  q: ┤ X ├┤ H ├┤ Tdg ├┤ Z ├┤ Y ├┤ Rx(1.6) ├┤ S ├┤ H ├┤M├\n",
       "     └───┘└───┘└─────┘└───┘└───┘└─────────┘└───┘└───┘└╥┘\n",
       "c: 1/═════════════════════════════════════════════════╩═\n",
       "                                                      0 </pre>"
      ],
      "text/plain": [
       "     ┌───┐┌───┐┌─────┐┌───┐┌───┐┌─────────┐┌───┐┌───┐┌─┐\n",
       "  q: ┤ X ├┤ H ├┤ Tdg ├┤ Z ├┤ Y ├┤ Rx(1.6) ├┤ S ├┤ H ├┤M├\n",
       "     └───┘└───┘└─────┘└───┘└───┘└─────────┘└───┘└───┘└╥┘\n",
       "c: 1/═════════════════════════════════════════════════╩═\n",
       "                                                      0 "
      ]
     },
     "metadata": {},
     "output_type": "display_data"
    },
    {
     "data": {
      "image/png": "[encoded data removed]",
      "text/plain": [
       "<Figure size 640x480 with 1 Axes>"
      ]
     },
     "execution_count": 19,
     "metadata": {},
     "output_type": "execute_result"
    }
   ],
   "source": [
    "x_basis = create_circuit() \n",
    "\n",
    "print('Statevector:')\n",
    "statevector = Statevector(x_basis)\n",
    "display(statevector.draw('latex'))\n",
    "\n",
    "x_basis.h(0) # change from standard basis to x-basis\n",
    "x_basis.measure(0,0)\n",
    "print('Circuit:')\n",
    "display(x_basis.draw(reverse_bits=True))\n",
    "\n",
    "backend = AerSimulator()\n",
    "job = backend.run(x_basis, shots=1000)\n",
    "x_basis_results= job.result().get_counts()\n",
    "plot_histogram(job.result().get_counts())"
   ]
  },
  {
   "cell_type": "markdown",
   "metadata": {},
   "source": [
    "Measuring in the Y-basis (R,L)"
   ]
  },
  {
   "cell_type": "code",
   "execution_count": 22,
   "metadata": {},
   "outputs": [
    {
     "name": "stdout",
     "output_type": "stream",
     "text": [
      "Circuit:\n"
     ]
    },
    {
     "data": {
      "text/html": [
       "<pre style=\"word-wrap: normal;white-space: pre;background: #fff0;line-height: 1.1;font-family: &quot;Courier New&quot;,Courier,monospace\">     ┌───┐┌───┐┌─────┐┌───┐┌───┐┌─────────┐┌───┐┌───┐┌─┐\n",
       "  q: ┤ X ├┤ H ├┤ Tdg ├┤ Z ├┤ Y ├┤ Rx(1.6) ├┤ S ├┤ S ├┤M├\n",
       "     └───┘└───┘└─────┘└───┘└───┘└─────────┘└───┘└───┘└╥┘\n",
       "c: 1/═════════════════════════════════════════════════╩═\n",
       "                                                      0 </pre>"
      ],
      "text/plain": [
       "     ┌───┐┌───┐┌─────┐┌───┐┌───┐┌─────────┐┌───┐┌───┐┌─┐\n",
       "  q: ┤ X ├┤ H ├┤ Tdg ├┤ Z ├┤ Y ├┤ Rx(1.6) ├┤ S ├┤ S ├┤M├\n",
       "     └───┘└───┘└─────┘└───┘└───┘└─────────┘└───┘└───┘└╥┘\n",
       "c: 1/═════════════════════════════════════════════════╩═\n",
       "                                                      0 "
      ]
     },
     "metadata": {},
     "output_type": "display_data"
    }
   ],
   "source": [
    "y_basis = create_circuit()\n",
    "y_basis.s(0) # turn from standard basis to y-basis\n",
    "y_basis.measure(0,0)\n",
    "print('Circuit:')\n",
    "display(y_basis.draw(reverse_bits=True))\n",
    "y_basis_results= job.result().get_counts()"
   ]
  },
  {
   "cell_type": "code",
   "execution_count": 20,
   "metadata": {},
   "outputs": [
    {
     "name": "stdout",
     "output_type": "stream",
     "text": [
      "Statevector:\n"
     ]
    },
    {
     "data": {
      "text/latex": [
       "$$(0.1588940017 - 0.3483533547 i) |0\\rangle+(-0.8513240841 - 0.3586780454 i) |1\\rangle$$"
      ],
      "text/plain": [
       "<IPython.core.display.Latex object>"
      ]
     },
     "metadata": {},
     "output_type": "display_data"
    }
   ],
   "source": [
    "print('Statevector:')\n",
    "display(statevector.draw('latex'))\n",
    "#qc.\n",
    "res = measure(qc, shots=1000)\n"
   ]
  },
  {
   "cell_type": "code",
   "execution_count": 28,
   "metadata": {},
   "outputs": [
    {
     "name": "stdout",
     "output_type": "stream",
     "text": [
      "Statevector:\n"
     ]
    },
    {
     "ename": "QiskitError",
     "evalue": "'Cannot apply instruction with classical bits: measure'",
     "output_type": "error",
     "traceback": [
      "\u001b[1;31m---------------------------------------------------------------------------\u001b[0m",
      "\u001b[1;31mQiskitError\u001b[0m                               Traceback (most recent call last)",
      "Cell \u001b[1;32mIn[28], line 2\u001b[0m\n\u001b[0;32m      1\u001b[0m \u001b[38;5;28mprint\u001b[39m(\u001b[38;5;124m'\u001b[39m\u001b[38;5;124mStatevector:\u001b[39m\u001b[38;5;124m'\u001b[39m)\n\u001b[1;32m----> 2\u001b[0m statevector \u001b[38;5;241m=\u001b[39m \u001b[43mStatevector\u001b[49m\u001b[43m(\u001b[49m\u001b[43my_basis\u001b[49m\u001b[43m)\u001b[49m\n\u001b[0;32m      3\u001b[0m display(statevector\u001b[38;5;241m.\u001b[39mdraw(\u001b[38;5;124m'\u001b[39m\u001b[38;5;124mlatex\u001b[39m\u001b[38;5;124m'\u001b[39m))\n\u001b[0;32m      5\u001b[0m y_basis\u001b[38;5;241m.\u001b[39ms(\u001b[38;5;241m0\u001b[39m) \u001b[38;5;66;03m# # change from standard basis to y-basis\u001b[39;00m\n",
      "File \u001b[1;32mc:\\Users\\Ludvik Laptop\\Documents\\GitHub\\Assignment1-Inf367\\.venv\\Lib\\site-packages\\qiskit\\quantum_info\\states\\statevector.py:93\u001b[0m, in \u001b[0;36mStatevector.__init__\u001b[1;34m(self, data, dims)\u001b[0m\n\u001b[0;32m     91\u001b[0m     \u001b[38;5;28mself\u001b[39m\u001b[38;5;241m.\u001b[39m_data \u001b[38;5;241m=\u001b[39m np\u001b[38;5;241m.\u001b[39mravel(data\u001b[38;5;241m.\u001b[39mdata)\n\u001b[0;32m     92\u001b[0m \u001b[38;5;28;01melif\u001b[39;00m \u001b[38;5;28misinstance\u001b[39m(data, (QuantumCircuit, Instruction)):\n\u001b[1;32m---> 93\u001b[0m     \u001b[38;5;28mself\u001b[39m\u001b[38;5;241m.\u001b[39m_data \u001b[38;5;241m=\u001b[39m \u001b[43mStatevector\u001b[49m\u001b[38;5;241;43m.\u001b[39;49m\u001b[43mfrom_instruction\u001b[49m\u001b[43m(\u001b[49m\u001b[43mdata\u001b[49m\u001b[43m)\u001b[49m\u001b[38;5;241m.\u001b[39mdata\n\u001b[0;32m     94\u001b[0m \u001b[38;5;28;01melse\u001b[39;00m:\n\u001b[0;32m     95\u001b[0m     \u001b[38;5;28;01mraise\u001b[39;00m QiskitError(\u001b[38;5;124m\"\u001b[39m\u001b[38;5;124mInvalid input data format for Statevector\u001b[39m\u001b[38;5;124m\"\u001b[39m)\n",
      "File \u001b[1;32mc:\\Users\\Ludvik Laptop\\Documents\\GitHub\\Assignment1-Inf367\\.venv\\Lib\\site-packages\\qiskit\\quantum_info\\states\\statevector.py:767\u001b[0m, in \u001b[0;36mStatevector.from_instruction\u001b[1;34m(cls, instruction)\u001b[0m\n\u001b[0;32m    765\u001b[0m init[\u001b[38;5;241m0\u001b[39m] \u001b[38;5;241m=\u001b[39m \u001b[38;5;241m1.0\u001b[39m\n\u001b[0;32m    766\u001b[0m vec \u001b[38;5;241m=\u001b[39m Statevector(init, dims\u001b[38;5;241m=\u001b[39minstruction\u001b[38;5;241m.\u001b[39mnum_qubits \u001b[38;5;241m*\u001b[39m (\u001b[38;5;241m2\u001b[39m,))\n\u001b[1;32m--> 767\u001b[0m \u001b[38;5;28;01mreturn\u001b[39;00m \u001b[43mStatevector\u001b[49m\u001b[38;5;241;43m.\u001b[39;49m\u001b[43m_evolve_instruction\u001b[49m\u001b[43m(\u001b[49m\u001b[43mvec\u001b[49m\u001b[43m,\u001b[49m\u001b[43m \u001b[49m\u001b[43minstruction\u001b[49m\u001b[43m)\u001b[49m\n",
      "File \u001b[1;32mc:\\Users\\Ludvik Laptop\\Documents\\GitHub\\Assignment1-Inf367\\.venv\\Lib\\site-packages\\qiskit\\quantum_info\\states\\statevector.py:949\u001b[0m, in \u001b[0;36mStatevector._evolve_instruction\u001b[1;34m(statevec, obj, qargs)\u001b[0m\n\u001b[0;32m    947\u001b[0m \u001b[38;5;28;01mfor\u001b[39;00m instruction \u001b[38;5;129;01min\u001b[39;00m obj\u001b[38;5;241m.\u001b[39mdefinition:\n\u001b[0;32m    948\u001b[0m     \u001b[38;5;28;01mif\u001b[39;00m instruction\u001b[38;5;241m.\u001b[39mclbits:\n\u001b[1;32m--> 949\u001b[0m         \u001b[38;5;28;01mraise\u001b[39;00m QiskitError(\n\u001b[0;32m    950\u001b[0m             \u001b[38;5;124mf\u001b[39m\u001b[38;5;124m\"\u001b[39m\u001b[38;5;124mCannot apply instruction with classical bits: \u001b[39m\u001b[38;5;132;01m{\u001b[39;00minstruction\u001b[38;5;241m.\u001b[39moperation\u001b[38;5;241m.\u001b[39mname\u001b[38;5;132;01m}\u001b[39;00m\u001b[38;5;124m\"\u001b[39m\n\u001b[0;32m    951\u001b[0m         )\n\u001b[0;32m    952\u001b[0m     \u001b[38;5;66;03m# Get the integer position of the flat register\u001b[39;00m\n\u001b[0;32m    953\u001b[0m     \u001b[38;5;28;01mif\u001b[39;00m qargs \u001b[38;5;129;01mis\u001b[39;00m \u001b[38;5;28;01mNone\u001b[39;00m:\n",
      "\u001b[1;31mQiskitError\u001b[0m: 'Cannot apply instruction with classical bits: measure'"
     ]
    }
   ],
   "source": [
    "print('Statevector:')\n",
    "statevector = Statevector(y_basis)\n",
    "display(statevector.draw('latex'))\n",
    "\n",
    "y_basis.s(0) # # change from standard basis to y-basis\n",
    "y_basis.measure(0,0)\n",
    "print('Circuit:')\n",
    "display(y_basis.draw(reverse_bits=True))\n",
    "\n",
    "backend = AerSimulator()\n",
    "job = backend.run(y_basis, shots=1000)\n",
    "plot_histogram(job.result().get_counts())"
   ]
  },
  {
   "cell_type": "markdown",
   "metadata": {},
   "source": [
    "4. Reconstruct state from measurments"
   ]
  },
  {
   "cell_type": "code",
   "execution_count": 49,
   "metadata": {},
   "outputs": [
    {
     "name": "stdout",
     "output_type": "stream",
     "text": [
      "0.625 0.78 0.4472135954999579 0.8944271909999159 0\n",
      "[[0.89442719+0.j]\n",
      " [0.4472136 +0.j]]\n"
     ]
    }
   ],
   "source": [
    "def reconstruct_state(x_basis_counts,y_basis_counts,z_basis_counts,shots):\n",
    "\n",
    "    r=math.sqrt(z_basis_counts[\"0\"]/shots)\n",
    "    s=math.sqrt(z_basis_counts[\"1\"]/shots)\n",
    "\n",
    "    a=(2*(x_basis_counts[\"0\"]-x_basis_counts[\"1\"])/1000)/(4*r*s)\n",
    "\n",
    "    b= (2*(y_basis_counts[\"0\"]-y_basis_counts[\"1\"])/1000) / (4*r*s)\n",
    "    first_alpha= [math.acos(a),2*math.pi-math.acos(a)]\n",
    "    second_alpha= [math.acos(b),2*math.pi-math.acos(b)]\n",
    "    alpha=0\n",
    "    for i in first_alpha:\n",
    "        if i in second_alpha:\n",
    "            alpha=i\n",
    "    vector1= np.array([[s],[0]])\n",
    "    vector2= (r*np.exp([complex(0,1)*alpha])) * np.array([[0],[1]])\n",
    "    print(a,b,r,s,alpha)\n",
    "    vector=vector1+vector2\n",
    "    print(vector)\n",
    "    \n",
    "reconstruct_state(x_basis_counts={\"1\":250,\"0\":750},y_basis_counts={\"1\":188,\"0\":812},z_basis_counts={\"1\":800,\"0\":200},shots=1000)\n",
    "    "
   ]
  }
 ],
 "metadata": {
  "kernelspec": {
   "display_name": "INF367venv",
   "language": "python",
   "name": "python3"
  },
  "language_info": {
   "codemirror_mode": {
    "name": "ipython",
    "version": 3
   },
   "file_extension": ".py",
   "mimetype": "text/x-python",
   "name": "python",
   "nbconvert_exporter": "python",
   "pygments_lexer": "ipython3",
   "version": "3.12.6"
  }
 },
 "nbformat": 4,
 "nbformat_minor": 2
}
